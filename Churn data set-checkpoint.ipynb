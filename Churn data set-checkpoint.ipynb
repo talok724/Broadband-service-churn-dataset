{
 "cells": [
  {
   "cell_type": "markdown",
   "id": "8f79c1f6",
   "metadata": {},
   "source": [
    "# Importing the Libraries"
   ]
  },
  {
   "cell_type": "code",
   "execution_count": 1,
   "id": "d5862431",
   "metadata": {},
   "outputs": [],
   "source": [
    "import pandas as pd\n",
    "import numpy as np\n",
    "import matplotlib.pyplot as plt\n",
    "import seaborn as sns\n",
    "%matplotlib inline"
   ]
  },
  {
   "cell_type": "markdown",
   "id": "de9a9b3d",
   "metadata": {},
   "source": [
    "## Creating a dataframe from the csv file"
   ]
  },
  {
   "cell_type": "code",
   "execution_count": 2,
   "id": "6fe1d445",
   "metadata": {},
   "outputs": [],
   "source": [
    "df= pd.read_csv(\"Churn.csv\")"
   ]
  },
  {
   "cell_type": "code",
   "execution_count": 3,
   "id": "2d124f3c",
   "metadata": {},
   "outputs": [
    {
     "data": {
      "text/html": [
       "<div>\n",
       "<style scoped>\n",
       "    .dataframe tbody tr th:only-of-type {\n",
       "        vertical-align: middle;\n",
       "    }\n",
       "\n",
       "    .dataframe tbody tr th {\n",
       "        vertical-align: top;\n",
       "    }\n",
       "\n",
       "    .dataframe thead th {\n",
       "        text-align: right;\n",
       "    }\n",
       "</style>\n",
       "<table border=\"1\" class=\"dataframe\">\n",
       "  <thead>\n",
       "    <tr style=\"text-align: right;\">\n",
       "      <th></th>\n",
       "      <th>gender</th>\n",
       "      <th>SeniorCitizen</th>\n",
       "      <th>Partner</th>\n",
       "      <th>Dependents</th>\n",
       "      <th>PhoneService</th>\n",
       "      <th>MultipleLines</th>\n",
       "      <th>InternetService</th>\n",
       "      <th>OnlineSecurity</th>\n",
       "      <th>OnlineBackup</th>\n",
       "      <th>DeviceProtection</th>\n",
       "      <th>...</th>\n",
       "      <th>StreamingTV</th>\n",
       "      <th>StreamingMovies</th>\n",
       "      <th>Contract</th>\n",
       "      <th>PaperlessBilling</th>\n",
       "      <th>PaymentMethod</th>\n",
       "      <th>MonthlyCharges</th>\n",
       "      <th>TotalCharges</th>\n",
       "      <th>numAdminTickets</th>\n",
       "      <th>numTechTickets</th>\n",
       "      <th>Churn</th>\n",
       "    </tr>\n",
       "  </thead>\n",
       "  <tbody>\n",
       "    <tr>\n",
       "      <th>0</th>\n",
       "      <td>Female</td>\n",
       "      <td>0</td>\n",
       "      <td>Yes</td>\n",
       "      <td>No</td>\n",
       "      <td>No</td>\n",
       "      <td>No phone service</td>\n",
       "      <td>DSL</td>\n",
       "      <td>No</td>\n",
       "      <td>Yes</td>\n",
       "      <td>No</td>\n",
       "      <td>...</td>\n",
       "      <td>No</td>\n",
       "      <td>No</td>\n",
       "      <td>Month-to-month</td>\n",
       "      <td>Yes</td>\n",
       "      <td>Electronic check</td>\n",
       "      <td>29.85</td>\n",
       "      <td>29.85</td>\n",
       "      <td>0</td>\n",
       "      <td>0</td>\n",
       "      <td>No</td>\n",
       "    </tr>\n",
       "    <tr>\n",
       "      <th>1</th>\n",
       "      <td>Male</td>\n",
       "      <td>0</td>\n",
       "      <td>No</td>\n",
       "      <td>No</td>\n",
       "      <td>Yes</td>\n",
       "      <td>No</td>\n",
       "      <td>DSL</td>\n",
       "      <td>Yes</td>\n",
       "      <td>No</td>\n",
       "      <td>Yes</td>\n",
       "      <td>...</td>\n",
       "      <td>No</td>\n",
       "      <td>No</td>\n",
       "      <td>One year</td>\n",
       "      <td>No</td>\n",
       "      <td>Mailed check</td>\n",
       "      <td>56.95</td>\n",
       "      <td>1889.50</td>\n",
       "      <td>0</td>\n",
       "      <td>0</td>\n",
       "      <td>No</td>\n",
       "    </tr>\n",
       "    <tr>\n",
       "      <th>2</th>\n",
       "      <td>Male</td>\n",
       "      <td>0</td>\n",
       "      <td>No</td>\n",
       "      <td>No</td>\n",
       "      <td>Yes</td>\n",
       "      <td>No</td>\n",
       "      <td>DSL</td>\n",
       "      <td>Yes</td>\n",
       "      <td>Yes</td>\n",
       "      <td>No</td>\n",
       "      <td>...</td>\n",
       "      <td>No</td>\n",
       "      <td>No</td>\n",
       "      <td>Month-to-month</td>\n",
       "      <td>Yes</td>\n",
       "      <td>Mailed check</td>\n",
       "      <td>53.85</td>\n",
       "      <td>108.15</td>\n",
       "      <td>0</td>\n",
       "      <td>0</td>\n",
       "      <td>Yes</td>\n",
       "    </tr>\n",
       "    <tr>\n",
       "      <th>3</th>\n",
       "      <td>Male</td>\n",
       "      <td>0</td>\n",
       "      <td>No</td>\n",
       "      <td>No</td>\n",
       "      <td>No</td>\n",
       "      <td>No phone service</td>\n",
       "      <td>DSL</td>\n",
       "      <td>Yes</td>\n",
       "      <td>No</td>\n",
       "      <td>Yes</td>\n",
       "      <td>...</td>\n",
       "      <td>No</td>\n",
       "      <td>No</td>\n",
       "      <td>One year</td>\n",
       "      <td>No</td>\n",
       "      <td>Bank transfer (automatic)</td>\n",
       "      <td>42.30</td>\n",
       "      <td>1840.75</td>\n",
       "      <td>0</td>\n",
       "      <td>3</td>\n",
       "      <td>No</td>\n",
       "    </tr>\n",
       "    <tr>\n",
       "      <th>4</th>\n",
       "      <td>Female</td>\n",
       "      <td>0</td>\n",
       "      <td>No</td>\n",
       "      <td>No</td>\n",
       "      <td>Yes</td>\n",
       "      <td>No</td>\n",
       "      <td>Fiber optic</td>\n",
       "      <td>No</td>\n",
       "      <td>No</td>\n",
       "      <td>No</td>\n",
       "      <td>...</td>\n",
       "      <td>No</td>\n",
       "      <td>No</td>\n",
       "      <td>Month-to-month</td>\n",
       "      <td>Yes</td>\n",
       "      <td>Electronic check</td>\n",
       "      <td>70.70</td>\n",
       "      <td>151.65</td>\n",
       "      <td>0</td>\n",
       "      <td>0</td>\n",
       "      <td>Yes</td>\n",
       "    </tr>\n",
       "  </tbody>\n",
       "</table>\n",
       "<p>5 rows × 21 columns</p>\n",
       "</div>"
      ],
      "text/plain": [
       "   gender  SeniorCitizen Partner Dependents PhoneService     MultipleLines  \\\n",
       "0  Female              0     Yes         No           No  No phone service   \n",
       "1    Male              0      No         No          Yes                No   \n",
       "2    Male              0      No         No          Yes                No   \n",
       "3    Male              0      No         No           No  No phone service   \n",
       "4  Female              0      No         No          Yes                No   \n",
       "\n",
       "  InternetService OnlineSecurity OnlineBackup DeviceProtection  ...  \\\n",
       "0             DSL             No          Yes               No  ...   \n",
       "1             DSL            Yes           No              Yes  ...   \n",
       "2             DSL            Yes          Yes               No  ...   \n",
       "3             DSL            Yes           No              Yes  ...   \n",
       "4     Fiber optic             No           No               No  ...   \n",
       "\n",
       "  StreamingTV StreamingMovies        Contract PaperlessBilling  \\\n",
       "0          No              No  Month-to-month              Yes   \n",
       "1          No              No        One year               No   \n",
       "2          No              No  Month-to-month              Yes   \n",
       "3          No              No        One year               No   \n",
       "4          No              No  Month-to-month              Yes   \n",
       "\n",
       "               PaymentMethod MonthlyCharges  TotalCharges  numAdminTickets  \\\n",
       "0           Electronic check          29.85         29.85                0   \n",
       "1               Mailed check          56.95       1889.50                0   \n",
       "2               Mailed check          53.85        108.15                0   \n",
       "3  Bank transfer (automatic)          42.30       1840.75                0   \n",
       "4           Electronic check          70.70        151.65                0   \n",
       "\n",
       "   numTechTickets  Churn  \n",
       "0               0     No  \n",
       "1               0     No  \n",
       "2               0    Yes  \n",
       "3               3     No  \n",
       "4               0    Yes  \n",
       "\n",
       "[5 rows x 21 columns]"
      ]
     },
     "execution_count": 3,
     "metadata": {},
     "output_type": "execute_result"
    }
   ],
   "source": [
    "df.head() #having a glance of the data and the columns"
   ]
  },
  {
   "cell_type": "code",
   "execution_count": 4,
   "id": "4484234f",
   "metadata": {},
   "outputs": [
    {
     "data": {
      "text/plain": [
       "Index(['gender', 'SeniorCitizen', 'Partner', 'Dependents', 'PhoneService',\n",
       "       'MultipleLines', 'InternetService', 'OnlineSecurity', 'OnlineBackup',\n",
       "       'DeviceProtection', 'TechSupport', 'StreamingTV', 'StreamingMovies',\n",
       "       'Contract', 'PaperlessBilling', 'PaymentMethod', 'MonthlyCharges',\n",
       "       'TotalCharges', 'numAdminTickets', 'numTechTickets', 'Churn'],\n",
       "      dtype='object')"
      ]
     },
     "execution_count": 4,
     "metadata": {},
     "output_type": "execute_result"
    }
   ],
   "source": [
    "df.columns #taking the look of the colummns of the dataframe"
   ]
  },
  {
   "cell_type": "code",
   "execution_count": 5,
   "id": "ef781947",
   "metadata": {},
   "outputs": [
    {
     "data": {
      "text/plain": [
       "(7032, 21)"
      ]
     },
     "execution_count": 5,
     "metadata": {},
     "output_type": "execute_result"
    }
   ],
   "source": [
    "df.shape #here is the shape of the data set"
   ]
  },
  {
   "cell_type": "markdown",
   "id": "c5eeb1df",
   "metadata": {},
   "source": [
    "The data contain 7032 rows and 21 columns"
   ]
  },
  {
   "cell_type": "code",
   "execution_count": 6,
   "id": "5e9ed0a7",
   "metadata": {
    "scrolled": true
   },
   "outputs": [
    {
     "name": "stdout",
     "output_type": "stream",
     "text": [
      "<class 'pandas.core.frame.DataFrame'>\n",
      "RangeIndex: 7032 entries, 0 to 7031\n",
      "Data columns (total 21 columns):\n",
      " #   Column            Non-Null Count  Dtype  \n",
      "---  ------            --------------  -----  \n",
      " 0   gender            7032 non-null   object \n",
      " 1   SeniorCitizen     7032 non-null   int64  \n",
      " 2   Partner           7032 non-null   object \n",
      " 3   Dependents        7032 non-null   object \n",
      " 4   PhoneService      7032 non-null   object \n",
      " 5   MultipleLines     7032 non-null   object \n",
      " 6   InternetService   7032 non-null   object \n",
      " 7   OnlineSecurity    7032 non-null   object \n",
      " 8   OnlineBackup      7032 non-null   object \n",
      " 9   DeviceProtection  7032 non-null   object \n",
      " 10  TechSupport       7032 non-null   object \n",
      " 11  StreamingTV       7032 non-null   object \n",
      " 12  StreamingMovies   7032 non-null   object \n",
      " 13  Contract          7032 non-null   object \n",
      " 14  PaperlessBilling  7032 non-null   object \n",
      " 15  PaymentMethod     7032 non-null   object \n",
      " 16  MonthlyCharges    7032 non-null   float64\n",
      " 17  TotalCharges      7032 non-null   float64\n",
      " 18  numAdminTickets   7032 non-null   int64  \n",
      " 19  numTechTickets    7032 non-null   int64  \n",
      " 20  Churn             7032 non-null   object \n",
      "dtypes: float64(2), int64(3), object(16)\n",
      "memory usage: 1.1+ MB\n"
     ]
    }
   ],
   "source": [
    "df.info()"
   ]
  },
  {
   "cell_type": "markdown",
   "id": "9ef8452a",
   "metadata": {},
   "source": [
    "    The data contain both object as well as the numerical columns "
   ]
  },
  {
   "cell_type": "code",
   "execution_count": 7,
   "id": "de5b074f",
   "metadata": {},
   "outputs": [
    {
     "data": {
      "text/plain": [
       "17"
      ]
     },
     "execution_count": 7,
     "metadata": {},
     "output_type": "execute_result"
    }
   ],
   "source": [
    "df.duplicated().sum() #checking the duplicate value in the dataframe"
   ]
  },
  {
   "cell_type": "code",
   "execution_count": 8,
   "id": "009cd902",
   "metadata": {},
   "outputs": [],
   "source": [
    "df = df.drop_duplicates() #droping the duplicate value in the dataframe"
   ]
  },
  {
   "cell_type": "code",
   "execution_count": 9,
   "id": "1e5cd791",
   "metadata": {},
   "outputs": [
    {
     "data": {
      "text/plain": [
       "(7015, 21)"
      ]
     },
     "execution_count": 9,
     "metadata": {},
     "output_type": "execute_result"
    }
   ],
   "source": [
    "df.shape"
   ]
  },
  {
   "cell_type": "code",
   "execution_count": 10,
   "id": "e7268e82",
   "metadata": {},
   "outputs": [
    {
     "data": {
      "text/html": [
       "<div>\n",
       "<style scoped>\n",
       "    .dataframe tbody tr th:only-of-type {\n",
       "        vertical-align: middle;\n",
       "    }\n",
       "\n",
       "    .dataframe tbody tr th {\n",
       "        vertical-align: top;\n",
       "    }\n",
       "\n",
       "    .dataframe thead th {\n",
       "        text-align: right;\n",
       "    }\n",
       "</style>\n",
       "<table border=\"1\" class=\"dataframe\">\n",
       "  <thead>\n",
       "    <tr style=\"text-align: right;\">\n",
       "      <th></th>\n",
       "      <th>gender</th>\n",
       "      <th>SeniorCitizen</th>\n",
       "      <th>Partner</th>\n",
       "      <th>Dependents</th>\n",
       "      <th>PhoneService</th>\n",
       "      <th>MultipleLines</th>\n",
       "      <th>InternetService</th>\n",
       "      <th>OnlineSecurity</th>\n",
       "      <th>OnlineBackup</th>\n",
       "      <th>DeviceProtection</th>\n",
       "      <th>...</th>\n",
       "      <th>StreamingTV</th>\n",
       "      <th>StreamingMovies</th>\n",
       "      <th>Contract</th>\n",
       "      <th>PaperlessBilling</th>\n",
       "      <th>PaymentMethod</th>\n",
       "      <th>MonthlyCharges</th>\n",
       "      <th>TotalCharges</th>\n",
       "      <th>numAdminTickets</th>\n",
       "      <th>numTechTickets</th>\n",
       "      <th>Churn</th>\n",
       "    </tr>\n",
       "  </thead>\n",
       "  <tbody>\n",
       "    <tr>\n",
       "      <th>count</th>\n",
       "      <td>7015</td>\n",
       "      <td>7015.000000</td>\n",
       "      <td>7015</td>\n",
       "      <td>7015</td>\n",
       "      <td>7015</td>\n",
       "      <td>7015</td>\n",
       "      <td>7015</td>\n",
       "      <td>7015</td>\n",
       "      <td>7015</td>\n",
       "      <td>7015</td>\n",
       "      <td>...</td>\n",
       "      <td>7015</td>\n",
       "      <td>7015</td>\n",
       "      <td>7015</td>\n",
       "      <td>7015</td>\n",
       "      <td>7015</td>\n",
       "      <td>7015.000000</td>\n",
       "      <td>7015.000000</td>\n",
       "      <td>7015.000000</td>\n",
       "      <td>7015.000000</td>\n",
       "      <td>7015</td>\n",
       "    </tr>\n",
       "    <tr>\n",
       "      <th>unique</th>\n",
       "      <td>2</td>\n",
       "      <td>NaN</td>\n",
       "      <td>2</td>\n",
       "      <td>2</td>\n",
       "      <td>2</td>\n",
       "      <td>3</td>\n",
       "      <td>3</td>\n",
       "      <td>3</td>\n",
       "      <td>3</td>\n",
       "      <td>3</td>\n",
       "      <td>...</td>\n",
       "      <td>3</td>\n",
       "      <td>3</td>\n",
       "      <td>3</td>\n",
       "      <td>2</td>\n",
       "      <td>4</td>\n",
       "      <td>NaN</td>\n",
       "      <td>NaN</td>\n",
       "      <td>NaN</td>\n",
       "      <td>NaN</td>\n",
       "      <td>2</td>\n",
       "    </tr>\n",
       "    <tr>\n",
       "      <th>top</th>\n",
       "      <td>Male</td>\n",
       "      <td>NaN</td>\n",
       "      <td>No</td>\n",
       "      <td>No</td>\n",
       "      <td>Yes</td>\n",
       "      <td>No</td>\n",
       "      <td>Fiber optic</td>\n",
       "      <td>No</td>\n",
       "      <td>No</td>\n",
       "      <td>No</td>\n",
       "      <td>...</td>\n",
       "      <td>No</td>\n",
       "      <td>No</td>\n",
       "      <td>Month-to-month</td>\n",
       "      <td>Yes</td>\n",
       "      <td>Electronic check</td>\n",
       "      <td>NaN</td>\n",
       "      <td>NaN</td>\n",
       "      <td>NaN</td>\n",
       "      <td>NaN</td>\n",
       "      <td>No</td>\n",
       "    </tr>\n",
       "    <tr>\n",
       "      <th>freq</th>\n",
       "      <td>3536</td>\n",
       "      <td>NaN</td>\n",
       "      <td>3622</td>\n",
       "      <td>4916</td>\n",
       "      <td>6335</td>\n",
       "      <td>3368</td>\n",
       "      <td>3092</td>\n",
       "      <td>3491</td>\n",
       "      <td>3081</td>\n",
       "      <td>3088</td>\n",
       "      <td>...</td>\n",
       "      <td>2803</td>\n",
       "      <td>2775</td>\n",
       "      <td>3858</td>\n",
       "      <td>4160</td>\n",
       "      <td>2360</td>\n",
       "      <td>NaN</td>\n",
       "      <td>NaN</td>\n",
       "      <td>NaN</td>\n",
       "      <td>NaN</td>\n",
       "      <td>5155</td>\n",
       "    </tr>\n",
       "    <tr>\n",
       "      <th>mean</th>\n",
       "      <td>NaN</td>\n",
       "      <td>0.162651</td>\n",
       "      <td>NaN</td>\n",
       "      <td>NaN</td>\n",
       "      <td>NaN</td>\n",
       "      <td>NaN</td>\n",
       "      <td>NaN</td>\n",
       "      <td>NaN</td>\n",
       "      <td>NaN</td>\n",
       "      <td>NaN</td>\n",
       "      <td>...</td>\n",
       "      <td>NaN</td>\n",
       "      <td>NaN</td>\n",
       "      <td>NaN</td>\n",
       "      <td>NaN</td>\n",
       "      <td>NaN</td>\n",
       "      <td>64.870919</td>\n",
       "      <td>2288.749423</td>\n",
       "      <td>0.515467</td>\n",
       "      <td>0.421240</td>\n",
       "      <td>NaN</td>\n",
       "    </tr>\n",
       "    <tr>\n",
       "      <th>std</th>\n",
       "      <td>NaN</td>\n",
       "      <td>0.369074</td>\n",
       "      <td>NaN</td>\n",
       "      <td>NaN</td>\n",
       "      <td>NaN</td>\n",
       "      <td>NaN</td>\n",
       "      <td>NaN</td>\n",
       "      <td>NaN</td>\n",
       "      <td>NaN</td>\n",
       "      <td>NaN</td>\n",
       "      <td>...</td>\n",
       "      <td>NaN</td>\n",
       "      <td>NaN</td>\n",
       "      <td>NaN</td>\n",
       "      <td>NaN</td>\n",
       "      <td>NaN</td>\n",
       "      <td>30.068575</td>\n",
       "      <td>2266.808670</td>\n",
       "      <td>1.274102</td>\n",
       "      <td>1.252328</td>\n",
       "      <td>NaN</td>\n",
       "    </tr>\n",
       "    <tr>\n",
       "      <th>min</th>\n",
       "      <td>NaN</td>\n",
       "      <td>0.000000</td>\n",
       "      <td>NaN</td>\n",
       "      <td>NaN</td>\n",
       "      <td>NaN</td>\n",
       "      <td>NaN</td>\n",
       "      <td>NaN</td>\n",
       "      <td>NaN</td>\n",
       "      <td>NaN</td>\n",
       "      <td>NaN</td>\n",
       "      <td>...</td>\n",
       "      <td>NaN</td>\n",
       "      <td>NaN</td>\n",
       "      <td>NaN</td>\n",
       "      <td>NaN</td>\n",
       "      <td>NaN</td>\n",
       "      <td>18.250000</td>\n",
       "      <td>18.800000</td>\n",
       "      <td>0.000000</td>\n",
       "      <td>0.000000</td>\n",
       "      <td>NaN</td>\n",
       "    </tr>\n",
       "    <tr>\n",
       "      <th>25%</th>\n",
       "      <td>NaN</td>\n",
       "      <td>0.000000</td>\n",
       "      <td>NaN</td>\n",
       "      <td>NaN</td>\n",
       "      <td>NaN</td>\n",
       "      <td>NaN</td>\n",
       "      <td>NaN</td>\n",
       "      <td>NaN</td>\n",
       "      <td>NaN</td>\n",
       "      <td>NaN</td>\n",
       "      <td>...</td>\n",
       "      <td>NaN</td>\n",
       "      <td>NaN</td>\n",
       "      <td>NaN</td>\n",
       "      <td>NaN</td>\n",
       "      <td>NaN</td>\n",
       "      <td>35.750000</td>\n",
       "      <td>405.875000</td>\n",
       "      <td>0.000000</td>\n",
       "      <td>0.000000</td>\n",
       "      <td>NaN</td>\n",
       "    </tr>\n",
       "    <tr>\n",
       "      <th>50%</th>\n",
       "      <td>NaN</td>\n",
       "      <td>0.000000</td>\n",
       "      <td>NaN</td>\n",
       "      <td>NaN</td>\n",
       "      <td>NaN</td>\n",
       "      <td>NaN</td>\n",
       "      <td>NaN</td>\n",
       "      <td>NaN</td>\n",
       "      <td>NaN</td>\n",
       "      <td>NaN</td>\n",
       "      <td>...</td>\n",
       "      <td>NaN</td>\n",
       "      <td>NaN</td>\n",
       "      <td>NaN</td>\n",
       "      <td>NaN</td>\n",
       "      <td>NaN</td>\n",
       "      <td>70.400000</td>\n",
       "      <td>1401.400000</td>\n",
       "      <td>0.000000</td>\n",
       "      <td>0.000000</td>\n",
       "      <td>NaN</td>\n",
       "    </tr>\n",
       "    <tr>\n",
       "      <th>75%</th>\n",
       "      <td>NaN</td>\n",
       "      <td>0.000000</td>\n",
       "      <td>NaN</td>\n",
       "      <td>NaN</td>\n",
       "      <td>NaN</td>\n",
       "      <td>NaN</td>\n",
       "      <td>NaN</td>\n",
       "      <td>NaN</td>\n",
       "      <td>NaN</td>\n",
       "      <td>NaN</td>\n",
       "      <td>...</td>\n",
       "      <td>NaN</td>\n",
       "      <td>NaN</td>\n",
       "      <td>NaN</td>\n",
       "      <td>NaN</td>\n",
       "      <td>NaN</td>\n",
       "      <td>89.900000</td>\n",
       "      <td>3805.875000</td>\n",
       "      <td>0.000000</td>\n",
       "      <td>0.000000</td>\n",
       "      <td>NaN</td>\n",
       "    </tr>\n",
       "    <tr>\n",
       "      <th>max</th>\n",
       "      <td>NaN</td>\n",
       "      <td>1.000000</td>\n",
       "      <td>NaN</td>\n",
       "      <td>NaN</td>\n",
       "      <td>NaN</td>\n",
       "      <td>NaN</td>\n",
       "      <td>NaN</td>\n",
       "      <td>NaN</td>\n",
       "      <td>NaN</td>\n",
       "      <td>NaN</td>\n",
       "      <td>...</td>\n",
       "      <td>NaN</td>\n",
       "      <td>NaN</td>\n",
       "      <td>NaN</td>\n",
       "      <td>NaN</td>\n",
       "      <td>NaN</td>\n",
       "      <td>118.750000</td>\n",
       "      <td>8684.800000</td>\n",
       "      <td>5.000000</td>\n",
       "      <td>9.000000</td>\n",
       "      <td>NaN</td>\n",
       "    </tr>\n",
       "  </tbody>\n",
       "</table>\n",
       "<p>11 rows × 21 columns</p>\n",
       "</div>"
      ],
      "text/plain": [
       "       gender  SeniorCitizen Partner Dependents PhoneService MultipleLines  \\\n",
       "count    7015    7015.000000    7015       7015         7015          7015   \n",
       "unique      2            NaN       2          2            2             3   \n",
       "top      Male            NaN      No         No          Yes            No   \n",
       "freq     3536            NaN    3622       4916         6335          3368   \n",
       "mean      NaN       0.162651     NaN        NaN          NaN           NaN   \n",
       "std       NaN       0.369074     NaN        NaN          NaN           NaN   \n",
       "min       NaN       0.000000     NaN        NaN          NaN           NaN   \n",
       "25%       NaN       0.000000     NaN        NaN          NaN           NaN   \n",
       "50%       NaN       0.000000     NaN        NaN          NaN           NaN   \n",
       "75%       NaN       0.000000     NaN        NaN          NaN           NaN   \n",
       "max       NaN       1.000000     NaN        NaN          NaN           NaN   \n",
       "\n",
       "       InternetService OnlineSecurity OnlineBackup DeviceProtection  ...  \\\n",
       "count             7015           7015         7015             7015  ...   \n",
       "unique               3              3            3                3  ...   \n",
       "top        Fiber optic             No           No               No  ...   \n",
       "freq              3092           3491         3081             3088  ...   \n",
       "mean               NaN            NaN          NaN              NaN  ...   \n",
       "std                NaN            NaN          NaN              NaN  ...   \n",
       "min                NaN            NaN          NaN              NaN  ...   \n",
       "25%                NaN            NaN          NaN              NaN  ...   \n",
       "50%                NaN            NaN          NaN              NaN  ...   \n",
       "75%                NaN            NaN          NaN              NaN  ...   \n",
       "max                NaN            NaN          NaN              NaN  ...   \n",
       "\n",
       "       StreamingTV StreamingMovies        Contract PaperlessBilling  \\\n",
       "count         7015            7015            7015             7015   \n",
       "unique           3               3               3                2   \n",
       "top             No              No  Month-to-month              Yes   \n",
       "freq          2803            2775            3858             4160   \n",
       "mean           NaN             NaN             NaN              NaN   \n",
       "std            NaN             NaN             NaN              NaN   \n",
       "min            NaN             NaN             NaN              NaN   \n",
       "25%            NaN             NaN             NaN              NaN   \n",
       "50%            NaN             NaN             NaN              NaN   \n",
       "75%            NaN             NaN             NaN              NaN   \n",
       "max            NaN             NaN             NaN              NaN   \n",
       "\n",
       "           PaymentMethod MonthlyCharges  TotalCharges  numAdminTickets  \\\n",
       "count               7015    7015.000000   7015.000000      7015.000000   \n",
       "unique                 4            NaN           NaN              NaN   \n",
       "top     Electronic check            NaN           NaN              NaN   \n",
       "freq                2360            NaN           NaN              NaN   \n",
       "mean                 NaN      64.870919   2288.749423         0.515467   \n",
       "std                  NaN      30.068575   2266.808670         1.274102   \n",
       "min                  NaN      18.250000     18.800000         0.000000   \n",
       "25%                  NaN      35.750000    405.875000         0.000000   \n",
       "50%                  NaN      70.400000   1401.400000         0.000000   \n",
       "75%                  NaN      89.900000   3805.875000         0.000000   \n",
       "max                  NaN     118.750000   8684.800000         5.000000   \n",
       "\n",
       "        numTechTickets  Churn  \n",
       "count      7015.000000   7015  \n",
       "unique             NaN      2  \n",
       "top                NaN     No  \n",
       "freq               NaN   5155  \n",
       "mean          0.421240    NaN  \n",
       "std           1.252328    NaN  \n",
       "min           0.000000    NaN  \n",
       "25%           0.000000    NaN  \n",
       "50%           0.000000    NaN  \n",
       "75%           0.000000    NaN  \n",
       "max           9.000000    NaN  \n",
       "\n",
       "[11 rows x 21 columns]"
      ]
     },
     "execution_count": 10,
     "metadata": {},
     "output_type": "execute_result"
    }
   ],
   "source": [
    "df.describe(include= \"all\") #checking the five number summary of the dataframe as well the count of all the columns in the data  "
   ]
  },
  {
   "cell_type": "code",
   "execution_count": 11,
   "id": "2298fb3b",
   "metadata": {},
   "outputs": [
    {
     "data": {
      "text/html": [
       "<div>\n",
       "<style scoped>\n",
       "    .dataframe tbody tr th:only-of-type {\n",
       "        vertical-align: middle;\n",
       "    }\n",
       "\n",
       "    .dataframe tbody tr th {\n",
       "        vertical-align: top;\n",
       "    }\n",
       "\n",
       "    .dataframe thead th {\n",
       "        text-align: right;\n",
       "    }\n",
       "</style>\n",
       "<table border=\"1\" class=\"dataframe\">\n",
       "  <thead>\n",
       "    <tr style=\"text-align: right;\">\n",
       "      <th></th>\n",
       "      <th>SeniorCitizen</th>\n",
       "      <th>MonthlyCharges</th>\n",
       "      <th>TotalCharges</th>\n",
       "      <th>numAdminTickets</th>\n",
       "      <th>numTechTickets</th>\n",
       "    </tr>\n",
       "  </thead>\n",
       "  <tbody>\n",
       "    <tr>\n",
       "      <th>count</th>\n",
       "      <td>7015.000000</td>\n",
       "      <td>7015.000000</td>\n",
       "      <td>7015.000000</td>\n",
       "      <td>7015.000000</td>\n",
       "      <td>7015.000000</td>\n",
       "    </tr>\n",
       "    <tr>\n",
       "      <th>mean</th>\n",
       "      <td>0.162651</td>\n",
       "      <td>64.870919</td>\n",
       "      <td>2288.749423</td>\n",
       "      <td>0.515467</td>\n",
       "      <td>0.421240</td>\n",
       "    </tr>\n",
       "    <tr>\n",
       "      <th>std</th>\n",
       "      <td>0.369074</td>\n",
       "      <td>30.068575</td>\n",
       "      <td>2266.808670</td>\n",
       "      <td>1.274102</td>\n",
       "      <td>1.252328</td>\n",
       "    </tr>\n",
       "    <tr>\n",
       "      <th>min</th>\n",
       "      <td>0.000000</td>\n",
       "      <td>18.250000</td>\n",
       "      <td>18.800000</td>\n",
       "      <td>0.000000</td>\n",
       "      <td>0.000000</td>\n",
       "    </tr>\n",
       "    <tr>\n",
       "      <th>25%</th>\n",
       "      <td>0.000000</td>\n",
       "      <td>35.750000</td>\n",
       "      <td>405.875000</td>\n",
       "      <td>0.000000</td>\n",
       "      <td>0.000000</td>\n",
       "    </tr>\n",
       "    <tr>\n",
       "      <th>50%</th>\n",
       "      <td>0.000000</td>\n",
       "      <td>70.400000</td>\n",
       "      <td>1401.400000</td>\n",
       "      <td>0.000000</td>\n",
       "      <td>0.000000</td>\n",
       "    </tr>\n",
       "    <tr>\n",
       "      <th>75%</th>\n",
       "      <td>0.000000</td>\n",
       "      <td>89.900000</td>\n",
       "      <td>3805.875000</td>\n",
       "      <td>0.000000</td>\n",
       "      <td>0.000000</td>\n",
       "    </tr>\n",
       "    <tr>\n",
       "      <th>max</th>\n",
       "      <td>1.000000</td>\n",
       "      <td>118.750000</td>\n",
       "      <td>8684.800000</td>\n",
       "      <td>5.000000</td>\n",
       "      <td>9.000000</td>\n",
       "    </tr>\n",
       "  </tbody>\n",
       "</table>\n",
       "</div>"
      ],
      "text/plain": [
       "       SeniorCitizen  MonthlyCharges  TotalCharges  numAdminTickets  \\\n",
       "count    7015.000000     7015.000000   7015.000000      7015.000000   \n",
       "mean        0.162651       64.870919   2288.749423         0.515467   \n",
       "std         0.369074       30.068575   2266.808670         1.274102   \n",
       "min         0.000000       18.250000     18.800000         0.000000   \n",
       "25%         0.000000       35.750000    405.875000         0.000000   \n",
       "50%         0.000000       70.400000   1401.400000         0.000000   \n",
       "75%         0.000000       89.900000   3805.875000         0.000000   \n",
       "max         1.000000      118.750000   8684.800000         5.000000   \n",
       "\n",
       "       numTechTickets  \n",
       "count     7015.000000  \n",
       "mean         0.421240  \n",
       "std          1.252328  \n",
       "min          0.000000  \n",
       "25%          0.000000  \n",
       "50%          0.000000  \n",
       "75%          0.000000  \n",
       "max          9.000000  "
      ]
     },
     "execution_count": 11,
     "metadata": {},
     "output_type": "execute_result"
    }
   ],
   "source": [
    "df.describe()  #checking the five number summary only for the numerical columns in the data "
   ]
  },
  {
   "cell_type": "code",
   "execution_count": 12,
   "id": "adebba7b",
   "metadata": {},
   "outputs": [
    {
     "data": {
      "text/plain": [
       "gender              0\n",
       "SeniorCitizen       0\n",
       "Partner             0\n",
       "Dependents          0\n",
       "PhoneService        0\n",
       "MultipleLines       0\n",
       "InternetService     0\n",
       "OnlineSecurity      0\n",
       "OnlineBackup        0\n",
       "DeviceProtection    0\n",
       "TechSupport         0\n",
       "StreamingTV         0\n",
       "StreamingMovies     0\n",
       "Contract            0\n",
       "PaperlessBilling    0\n",
       "PaymentMethod       0\n",
       "MonthlyCharges      0\n",
       "TotalCharges        0\n",
       "numAdminTickets     0\n",
       "numTechTickets      0\n",
       "Churn               0\n",
       "dtype: int64"
      ]
     },
     "execution_count": 12,
     "metadata": {},
     "output_type": "execute_result"
    }
   ],
   "source": [
    "df[\"TotalCharges\"] = df[\"TotalCharges\"].replace('', np.nan) #replacing the empty string value of the dataframe to nan value\n",
    "df[\"TotalCharges\"].dropna() #droping the nan value of the dataframe\n",
    "df.isnull().sum() #checking the sum of the nan value of the dataset "
   ]
  },
  {
   "cell_type": "code",
   "execution_count": 13,
   "id": "81ae2986",
   "metadata": {},
   "outputs": [],
   "source": [
    "#converting the str value of the Totalcharges column to float value as the columns contain only numerical value\n",
    "for i in df[\"TotalCharges\"]:\n",
    "    if df[\"TotalCharges\"].dtype == \"float\":\n",
    "        df[\"TotalCharges\"] = df[\"TotalCharges\"].astype(float)\n",
    "    else:\n",
    "        df[\"TotalCharges\"] = df[\"TotalCharges\"].astype(float)"
   ]
  },
  {
   "cell_type": "code",
   "execution_count": 14,
   "id": "be930ead",
   "metadata": {},
   "outputs": [
    {
     "name": "stdout",
     "output_type": "stream",
     "text": [
      "<class 'pandas.core.frame.DataFrame'>\n",
      "Int64Index: 7015 entries, 0 to 7031\n",
      "Data columns (total 21 columns):\n",
      " #   Column            Non-Null Count  Dtype  \n",
      "---  ------            --------------  -----  \n",
      " 0   gender            7015 non-null   object \n",
      " 1   SeniorCitizen     7015 non-null   int64  \n",
      " 2   Partner           7015 non-null   object \n",
      " 3   Dependents        7015 non-null   object \n",
      " 4   PhoneService      7015 non-null   object \n",
      " 5   MultipleLines     7015 non-null   object \n",
      " 6   InternetService   7015 non-null   object \n",
      " 7   OnlineSecurity    7015 non-null   object \n",
      " 8   OnlineBackup      7015 non-null   object \n",
      " 9   DeviceProtection  7015 non-null   object \n",
      " 10  TechSupport       7015 non-null   object \n",
      " 11  StreamingTV       7015 non-null   object \n",
      " 12  StreamingMovies   7015 non-null   object \n",
      " 13  Contract          7015 non-null   object \n",
      " 14  PaperlessBilling  7015 non-null   object \n",
      " 15  PaymentMethod     7015 non-null   object \n",
      " 16  MonthlyCharges    7015 non-null   float64\n",
      " 17  TotalCharges      7015 non-null   float64\n",
      " 18  numAdminTickets   7015 non-null   int64  \n",
      " 19  numTechTickets    7015 non-null   int64  \n",
      " 20  Churn             7015 non-null   object \n",
      "dtypes: float64(2), int64(3), object(16)\n",
      "memory usage: 1.2+ MB\n"
     ]
    }
   ],
   "source": [
    "df.info() #here checking the totacharges column is converted to float value"
   ]
  },
  {
   "cell_type": "markdown",
   "id": "f4133980",
   "metadata": {},
   "source": [
    "# Univariate analysis of the data"
   ]
  },
  {
   "cell_type": "code",
   "execution_count": 15,
   "id": "9de44594",
   "metadata": {},
   "outputs": [],
   "source": [
    "red = \"#FF0000\"  # Hex code for red\n",
    "green = \"#00FF00\"  # Hex code for green\n",
    "# Creating the red-green color palette\n",
    "colors = [green, red]\n",
    "# Set the color palette\n",
    "sns.set_palette(colors)"
   ]
  },
  {
   "cell_type": "code",
   "execution_count": 16,
   "id": "a94d8157",
   "metadata": {},
   "outputs": [
    {
     "name": "stderr",
     "output_type": "stream",
     "text": [
      "C:\\ProgramData\\Anaconda3\\lib\\site-packages\\seaborn\\_decorators.py:36: FutureWarning: Pass the following variable as a keyword arg: x. From version 0.12, the only valid positional argument will be `data`, and passing other arguments without an explicit keyword will result in an error or misinterpretation.\n",
      "  warnings.warn(\n"
     ]
    },
    {
     "data": {
      "image/png": "[encoded data removed]",
      "text/plain": [
       "<Figure size 640x480 with 1 Axes>"
      ]
     },
     "metadata": {},
     "output_type": "display_data"
    }
   ],
   "source": [
    "sns.countplot(df[\"gender\"])\n",
    "plt.xlabel([\"49.59%\",\"50.40\"])\n",
    "plt.show()"
   ]
  },
  {
   "cell_type": "markdown",
   "id": "20a12722",
   "metadata": {},
   "source": [
    "The above visualization shows that the proportion of the male female population of the data is 50.40% and 49.59% respectively"
   ]
  },
  {
   "cell_type": "code",
   "execution_count": 17,
   "id": "495bc97b",
   "metadata": {},
   "outputs": [
    {
     "data": {
      "image/png": "[encoded data removed]",
      "text/plain": [
       "<Figure size 640x480 with 1 Axes>"
      ]
     },
     "metadata": {},
     "output_type": "display_data"
    }
   ],
   "source": [
    "lable=[\"Below 60 years\",\"Above 60 years\"]\n",
    "plt.pie(df[\"SeniorCitizen\"].value_counts(),labels=lable, autopct='%1.1f%%',colors=\"yw\")\n",
    "plt.show()"
   ]
  },
  {
   "cell_type": "markdown",
   "id": "4e8cc6db",
   "metadata": {},
   "source": [
    "The above visualization shows that the proportion of the above 60 years age population of the data is 16.3%."
   ]
  },
  {
   "cell_type": "code",
   "execution_count": 18,
   "id": "e0b4bd54",
   "metadata": {},
   "outputs": [
    {
     "data": {
      "image/png": "[encoded data removed]",
      "text/plain": [
       "<Figure size 640x480 with 1 Axes>"
      ]
     },
     "metadata": {},
     "output_type": "display_data"
    },
    {
     "name": "stdout",
     "output_type": "stream",
     "text": [
      "No     5155\n",
      "Yes    1860\n",
      "Name: Churn, dtype: int64\n"
     ]
    }
   ],
   "source": [
    "lable=[\"No\",\"Yes\"]\n",
    "plt.pie(df[\"Churn\"].value_counts(normalize=True),labels=lable, autopct='%1.1f%%')\n",
    "plt.show()\n",
    "print(df[\"Churn\"].value_counts())"
   ]
  },
  {
   "cell_type": "markdown",
   "id": "6d3d93fe",
   "metadata": {},
   "source": [
    "The main focus which the number of customer who are leaving the service is 1860 which is 26.5% of the total customer"
   ]
  },
  {
   "cell_type": "markdown",
   "id": "f1b94145",
   "metadata": {},
   "source": [
    "## Checking the data that how much is service are been consumed by the customer"
   ]
  },
  {
   "cell_type": "code",
   "execution_count": 19,
   "id": "cbf60d85",
   "metadata": {},
   "outputs": [
    {
     "data": {
      "text/plain": [
       "Yes    90.306486\n",
       "No      9.693514\n",
       "Name: PhoneService, dtype: float64"
      ]
     },
     "execution_count": 19,
     "metadata": {},
     "output_type": "execute_result"
    }
   ],
   "source": [
    "df[\"PhoneService\"].value_counts(normalize=True)*100"
   ]
  },
  {
   "cell_type": "code",
   "execution_count": 20,
   "id": "6c8a6c3a",
   "metadata": {},
   "outputs": [
    {
     "data": {
      "text/plain": [
       "No                  48.011404\n",
       "Yes                 42.295082\n",
       "No phone service     9.693514\n",
       "Name: MultipleLines, dtype: float64"
      ]
     },
     "execution_count": 20,
     "metadata": {},
     "output_type": "execute_result"
    }
   ],
   "source": [
    "df[\"MultipleLines\"].value_counts(normalize=True)*100"
   ]
  },
  {
   "cell_type": "code",
   "execution_count": 21,
   "id": "350c3434",
   "metadata": {},
   "outputs": [
    {
     "data": {
      "text/plain": [
       "Fiber optic    44.076978\n",
       "DSL            34.411974\n",
       "No             21.511048\n",
       "Name: InternetService, dtype: float64"
      ]
     },
     "execution_count": 21,
     "metadata": {},
     "output_type": "execute_result"
    }
   ],
   "source": [
    "df[\"InternetService\"].value_counts(normalize=True)*100"
   ]
  },
  {
   "cell_type": "code",
   "execution_count": 22,
   "id": "80a43914",
   "metadata": {},
   "outputs": [
    {
     "data": {
      "text/plain": [
       "No                     49.764790\n",
       "Yes                    28.724163\n",
       "No internet service    21.511048\n",
       "Name: OnlineSecurity, dtype: float64"
      ]
     },
     "execution_count": 22,
     "metadata": {},
     "output_type": "execute_result"
    }
   ],
   "source": [
    "df[\"OnlineSecurity\"].value_counts(normalize=True)*100"
   ]
  },
  {
   "cell_type": "code",
   "execution_count": 23,
   "id": "a9438686",
   "metadata": {},
   "outputs": [
    {
     "data": {
      "text/plain": [
       "No                     43.920171\n",
       "Yes                    34.568781\n",
       "No internet service    21.511048\n",
       "Name: OnlineBackup, dtype: float64"
      ]
     },
     "execution_count": 23,
     "metadata": {},
     "output_type": "execute_result"
    }
   ],
   "source": [
    "df[\"OnlineBackup\"].value_counts(normalize=True)*100"
   ]
  },
  {
   "cell_type": "code",
   "execution_count": 24,
   "id": "7d68df90",
   "metadata": {},
   "outputs": [
    {
     "data": {
      "text/plain": [
       "No                     39.558090\n",
       "Yes                    38.930862\n",
       "No internet service    21.511048\n",
       "Name: StreamingMovies, dtype: float64"
      ]
     },
     "execution_count": 24,
     "metadata": {},
     "output_type": "execute_result"
    }
   ],
   "source": [
    "df[\"StreamingMovies\"].value_counts(normalize=True)*100"
   ]
  },
  {
   "cell_type": "markdown",
   "id": "3fe29eeb",
   "metadata": {},
   "source": [
    "The above analysis shows that the   \n",
    "+ Phone Service was consumed by 90 percent of the customer in which 42.29% of the cusotmer were using the multiple lines  \n",
    "+ Internet service was used by in which the company has Fiber optic used by (44.07%), DSL used by (34.41%) and (21.51%) of the customer were not using the internet service  \n",
    "+ Online security was used by 28.72% of the customer  \n",
    "+ Online Backup service was used by the 34.56% of the customer  \n",
    "+ Movies were streamed by 38.93% of the customer   "
   ]
  },
  {
   "cell_type": "code",
   "execution_count": 25,
   "id": "caa27ee4",
   "metadata": {},
   "outputs": [
    {
     "name": "stderr",
     "output_type": "stream",
     "text": [
      "C:\\ProgramData\\Anaconda3\\lib\\site-packages\\seaborn\\_decorators.py:36: FutureWarning: Pass the following variable as a keyword arg: x. From version 0.12, the only valid positional argument will be `data`, and passing other arguments without an explicit keyword will result in an error or misinterpretation.\n",
      "  warnings.warn(\n"
     ]
    },
    {
     "data": {
      "image/png": "[encoded data removed]",
      "text/plain": [
       "<Figure size 1000x500 with 1 Axes>"
      ]
     },
     "metadata": {},
     "output_type": "display_data"
    }
   ],
   "source": [
    "plt.figure(figsize=(10,5))\n",
    "sns.boxplot(df[\"TotalCharges\"],showfliers=True,)\n",
    "plt.show()"
   ]
  },
  {
   "cell_type": "code",
   "execution_count": 26,
   "id": "47746384",
   "metadata": {},
   "outputs": [
    {
     "name": "stderr",
     "output_type": "stream",
     "text": [
      "C:\\ProgramData\\Anaconda3\\lib\\site-packages\\seaborn\\distributions.py:2619: FutureWarning: `distplot` is a deprecated function and will be removed in a future version. Please adapt your code to use either `displot` (a figure-level function with similar flexibility) or `kdeplot` (an axes-level function for kernel density plots).\n",
      "  warnings.warn(msg, FutureWarning)\n"
     ]
    },
    {
     "data": {
      "text/plain": [
       "<AxesSubplot:xlabel='MonthlyCharges', ylabel='Density'>"
      ]
     },
     "execution_count": 26,
     "metadata": {},
     "output_type": "execute_result"
    },
    {
     "data": {
      "image/png": "[encoded data removed]",
      "text/plain": [
       "<Figure size 640x480 with 1 Axes>"
      ]
     },
     "metadata": {},
     "output_type": "display_data"
    }
   ],
   "source": [
    "sns.distplot(df[\"MonthlyCharges\"],hist=False)"
   ]
  },
  {
   "cell_type": "code",
   "execution_count": 27,
   "id": "847ff3b9",
   "metadata": {},
   "outputs": [
    {
     "name": "stderr",
     "output_type": "stream",
     "text": [
      "C:\\ProgramData\\Anaconda3\\lib\\site-packages\\seaborn\\distributions.py:2619: FutureWarning: `distplot` is a deprecated function and will be removed in a future version. Please adapt your code to use either `displot` (a figure-level function with similar flexibility) or `kdeplot` (an axes-level function for kernel density plots).\n",
      "  warnings.warn(msg, FutureWarning)\n"
     ]
    },
    {
     "data": {
      "text/plain": [
       "<AxesSubplot:xlabel='TotalCharges', ylabel='Density'>"
      ]
     },
     "execution_count": 27,
     "metadata": {},
     "output_type": "execute_result"
    },
    {
     "data": {
      "image/png": "[encoded data removed]",
      "text/plain": [
       "<Figure size 640x480 with 1 Axes>"
      ]
     },
     "metadata": {},
     "output_type": "display_data"
    }
   ],
   "source": [
    "sns.distplot(df[\"TotalCharges\"],hist=False)"
   ]
  },
  {
   "cell_type": "code",
   "execution_count": 28,
   "id": "0967f30f",
   "metadata": {},
   "outputs": [
    {
     "name": "stderr",
     "output_type": "stream",
     "text": [
      "C:\\ProgramData\\Anaconda3\\lib\\site-packages\\seaborn\\_decorators.py:36: FutureWarning: Pass the following variable as a keyword arg: x. From version 0.12, the only valid positional argument will be `data`, and passing other arguments without an explicit keyword will result in an error or misinterpretation.\n",
      "  warnings.warn(\n"
     ]
    },
    {
     "data": {
      "text/plain": [
       "<AxesSubplot:xlabel='MonthlyCharges'>"
      ]
     },
     "execution_count": 28,
     "metadata": {},
     "output_type": "execute_result"
    },
    {
     "data": {
      "image/png": "[encoded data removed]",
      "text/plain": [
       "<Figure size 640x480 with 1 Axes>"
      ]
     },
     "metadata": {},
     "output_type": "display_data"
    }
   ],
   "source": [
    "sns.boxplot(df[\"MonthlyCharges\"])"
   ]
  },
  {
   "cell_type": "markdown",
   "id": "e3439b5b",
   "metadata": {},
   "source": [
    "From the above representaion of the box plot and the hist plot the observations are:-  \n",
    "+ There are no outliers in the Totalcharges and Monthlycharges columns  \n",
    "+ Also the Totalcharges columns is shrink toward the lower side which means that the more customer pay the charge in that zone  "
   ]
  },
  {
   "cell_type": "code",
   "execution_count": 29,
   "id": "74a33b50",
   "metadata": {},
   "outputs": [
    {
     "name": "stdout",
     "output_type": "stream",
     "text": [
      "No     4916\n",
      "Yes    2099\n",
      "Name: Dependents, dtype: int64\n"
     ]
    },
    {
     "name": "stderr",
     "output_type": "stream",
     "text": [
      "C:\\ProgramData\\Anaconda3\\lib\\site-packages\\seaborn\\_decorators.py:36: FutureWarning: Pass the following variable as a keyword arg: x. From version 0.12, the only valid positional argument will be `data`, and passing other arguments without an explicit keyword will result in an error or misinterpretation.\n",
      "  warnings.warn(\n"
     ]
    },
    {
     "data": {
      "image/png": "[encoded data removed]",
      "text/plain": [
       "<Figure size 1000x500 with 1 Axes>"
      ]
     },
     "metadata": {},
     "output_type": "display_data"
    }
   ],
   "source": [
    "plt.figure(figsize=(10,5))\n",
    "sns.countplot(df[\"Dependents\"])\n",
    "print(df[\"Dependents\"].value_counts())"
   ]
  },
  {
   "cell_type": "markdown",
   "id": "e61e00e1",
   "metadata": {},
   "source": [
    "The customer which are present in the dataset only 2099 have dependent who might use the service "
   ]
  },
  {
   "cell_type": "markdown",
   "id": "86bdc3a6",
   "metadata": {},
   "source": [
    "# Bivariate Analysis"
   ]
  },
  {
   "cell_type": "code",
   "execution_count": 30,
   "id": "1d52408e",
   "metadata": {},
   "outputs": [
    {
     "data": {
      "text/plain": [
       "<AxesSubplot:xlabel='PhoneService', ylabel='count'>"
      ]
     },
     "execution_count": 30,
     "metadata": {},
     "output_type": "execute_result"
    },
    {
     "data": {
      "image/png": "[encoded data removed]",
      "text/plain": [
       "<Figure size 640x480 with 1 Axes>"
      ]
     },
     "metadata": {},
     "output_type": "display_data"
    }
   ],
   "source": [
    "sns.countplot(x=df[\"PhoneService\"],hue=df[\"Churn\"])"
   ]
  },
  {
   "cell_type": "code",
   "execution_count": 31,
   "id": "425ab137",
   "metadata": {},
   "outputs": [
    {
     "name": "stdout",
     "output_type": "stream",
     "text": [
      "Churn           No   Yes\n",
      "PhoneService            \n",
      "No             510   170\n",
      "Yes           4645  1690\n"
     ]
    }
   ],
   "source": [
    "df[\"PhoneService\"].value_counts()\n",
    "phone_service=pd.crosstab(df[\"PhoneService\"],df[\"Churn\"])\n",
    "print(phone_service)"
   ]
  },
  {
   "cell_type": "code",
   "execution_count": 32,
   "id": "1a1029e7",
   "metadata": {},
   "outputs": [
    {
     "name": "stdout",
     "output_type": "stream",
     "text": [
      "25.0 % not using the phone service left the service \n",
      "26.68 % using the phone service left the service\n"
     ]
    }
   ],
   "source": [
    "#percentage of people churn the sevice who were using the phone services is \n",
    "people_using_the_phone =(1690*100)/(4645+1690)\n",
    "#Similarly the percent of people not using the phoneservice and left the service is\n",
    "people_not_using_the_phone=(170*100)/(510+170)\n",
    "print(people_not_using_the_phone,\"% not using the phone service left the service \")\n",
    "print(round(people_using_the_phone,ndigits=2),\"% using the phone service left the service\")"
   ]
  },
  {
   "cell_type": "code",
   "execution_count": 33,
   "id": "560c3e43",
   "metadata": {},
   "outputs": [
    {
     "name": "stdout",
     "output_type": "stream",
     "text": [
      "Fiber optic    3092\n",
      "DSL            2414\n",
      "No             1509\n",
      "Name: InternetService, dtype: int64\n",
      "Churn              No   Yes\n",
      "InternetService            \n",
      "DSL              1957   457\n",
      "Fiber optic      1799  1293\n",
      "No               1399   110\n",
      "7.29 % not using the internet service left the service \n",
      "18.93 % using the DSL service left the service\n",
      "41.82 % using the Fiberoptic service left the service\n"
     ]
    }
   ],
   "source": [
    "print(df[\"InternetService\"].value_counts())\n",
    "Internet_Service=pd.crosstab(df[\"InternetService\"],df[\"Churn\"])\n",
    "print(Internet_Service)\n",
    "#percentage of people churn the sevice who were using the DSL services is \n",
    "people_using_the_DSL =(457*100)/(2414)\n",
    "#Similarly the percent of people not using the internetservice and left the service is\n",
    "people_not_using_the_internet=(110*100)/(1509)\n",
    "print(round(people_not_using_the_internet,ndigits=2),\"% not using the internet service left the service \")\n",
    "print(round(people_using_the_DSL,ndigits=2),\"% using the DSL service left the service\")\n",
    "#percentage of people churn the sevice who were using the Fiberoptic services is \n",
    "people_using_the_Fiberoptic =(1293*100)/(3092)\n",
    "print(round(people_using_the_Fiberoptic,ndigits=2),\"% using the Fiberoptic service left the service\")"
   ]
  },
  {
   "cell_type": "code",
   "execution_count": 34,
   "id": "2537323b",
   "metadata": {},
   "outputs": [
    {
     "name": "stderr",
     "output_type": "stream",
     "text": [
      "C:\\ProgramData\\Anaconda3\\lib\\site-packages\\seaborn\\_decorators.py:36: FutureWarning: Pass the following variable as a keyword arg: x. From version 0.12, the only valid positional argument will be `data`, and passing other arguments without an explicit keyword will result in an error or misinterpretation.\n",
      "  warnings.warn(\n"
     ]
    },
    {
     "data": {
      "text/plain": [
       "<AxesSubplot:xlabel='InternetService', ylabel='count'>"
      ]
     },
     "execution_count": 34,
     "metadata": {},
     "output_type": "execute_result"
    },
    {
     "data": {
      "image/png": "[encoded data removed]",
      "text/plain": [
       "<Figure size 640x480 with 1 Axes>"
      ]
     },
     "metadata": {},
     "output_type": "display_data"
    }
   ],
   "source": [
    "sns.countplot(df[\"InternetService\"],hue=df[\"Churn\"])"
   ]
  },
  {
   "cell_type": "code",
   "execution_count": 35,
   "id": "660c74a3",
   "metadata": {},
   "outputs": [
    {
     "name": "stderr",
     "output_type": "stream",
     "text": [
      "C:\\ProgramData\\Anaconda3\\lib\\site-packages\\seaborn\\_decorators.py:36: FutureWarning: Pass the following variable as a keyword arg: x. From version 0.12, the only valid positional argument will be `data`, and passing other arguments without an explicit keyword will result in an error or misinterpretation.\n",
      "  warnings.warn(\n"
     ]
    },
    {
     "data": {
      "text/plain": [
       "<AxesSubplot:xlabel='StreamingMovies', ylabel='count'>"
      ]
     },
     "execution_count": 35,
     "metadata": {},
     "output_type": "execute_result"
    },
    {
     "data": {
      "image/png": "[encoded data removed]",
      "text/plain": [
       "<Figure size 640x480 with 1 Axes>"
      ]
     },
     "metadata": {},
     "output_type": "display_data"
    }
   ],
   "source": [
    "sns.countplot(df[\"StreamingMovies\"],hue=df[\"Churn\"])"
   ]
  },
  {
   "cell_type": "code",
   "execution_count": 36,
   "id": "69932e43",
   "metadata": {},
   "outputs": [
    {
     "name": "stdout",
     "output_type": "stream",
     "text": [
      "29.952398388868545 % of the customer using the streaming movies service left the service\n"
     ]
    }
   ],
   "source": [
    "pd.crosstab(df[\"StreamingMovies\"],df[\"Churn\"])\n",
    "percent_of_left = (818*100)/(1913+818)\n",
    "print(percent_of_left,\"% of the customer using the streaming movies service left the service\")"
   ]
  },
  {
   "cell_type": "code",
   "execution_count": 37,
   "id": "35676612",
   "metadata": {},
   "outputs": [
    {
     "name": "stderr",
     "output_type": "stream",
     "text": [
      "C:\\ProgramData\\Anaconda3\\lib\\site-packages\\seaborn\\_decorators.py:36: FutureWarning: Pass the following variable as a keyword arg: x. From version 0.12, the only valid positional argument will be `data`, and passing other arguments without an explicit keyword will result in an error or misinterpretation.\n",
      "  warnings.warn(\n"
     ]
    },
    {
     "data": {
      "text/plain": [
       "<AxesSubplot:xlabel='StreamingTV', ylabel='count'>"
      ]
     },
     "execution_count": 37,
     "metadata": {},
     "output_type": "execute_result"
    },
    {
     "data": {
      "image/png": "[encoded data removed]",
      "text/plain": [
       "<Figure size 640x480 with 1 Axes>"
      ]
     },
     "metadata": {},
     "output_type": "display_data"
    }
   ],
   "source": [
    "sns.countplot(df[\"StreamingTV\"],hue=df[\"Churn\"])"
   ]
  },
  {
   "cell_type": "code",
   "execution_count": 38,
   "id": "0d7c4282",
   "metadata": {},
   "outputs": [],
   "source": [
    "#Number of people who left the stream movie service is approx same as the number of people who were streaming TV"
   ]
  },
  {
   "cell_type": "code",
   "execution_count": 39,
   "id": "cd4ca3db",
   "metadata": {},
   "outputs": [
    {
     "name": "stderr",
     "output_type": "stream",
     "text": [
      "C:\\ProgramData\\Anaconda3\\lib\\site-packages\\seaborn\\_decorators.py:36: FutureWarning: Pass the following variable as a keyword arg: x. From version 0.12, the only valid positional argument will be `data`, and passing other arguments without an explicit keyword will result in an error or misinterpretation.\n",
      "  warnings.warn(\n"
     ]
    },
    {
     "data": {
      "text/plain": [
       "<AxesSubplot:xlabel='InternetService', ylabel='count'>"
      ]
     },
     "execution_count": 39,
     "metadata": {},
     "output_type": "execute_result"
    },
    {
     "data": {
      "image/png": "[encoded data removed]",
      "text/plain": [
       "<Figure size 640x480 with 1 Axes>"
      ]
     },
     "metadata": {},
     "output_type": "display_data"
    }
   ],
   "source": [
    "sns.countplot(df[\"InternetService\"],hue=df[\"PhoneService\"],palette=\"PuBu\")"
   ]
  },
  {
   "cell_type": "code",
   "execution_count": 40,
   "id": "10402430",
   "metadata": {},
   "outputs": [
    {
     "name": "stdout",
     "output_type": "stream",
     "text": [
      "Yes    59.301497\n",
      "No     40.698503\n",
      "Name: PaperlessBilling, dtype: float64\n",
      "Churn               No   Yes\n",
      "PaperlessBilling            \n",
      "No                2388   467\n",
      "Yes               2767  1393\n"
     ]
    }
   ],
   "source": [
    "print(df[\"PaperlessBilling\"].value_counts(normalize=True)*100)\n",
    "print(pd.crosstab(df[\"PaperlessBilling\"],df[\"Churn\"]))"
   ]
  },
  {
   "cell_type": "code",
   "execution_count": 41,
   "id": "7f150a04",
   "metadata": {},
   "outputs": [
    {
     "name": "stderr",
     "output_type": "stream",
     "text": [
      "C:\\ProgramData\\Anaconda3\\lib\\site-packages\\seaborn\\_decorators.py:36: FutureWarning: Pass the following variable as a keyword arg: x. From version 0.12, the only valid positional argument will be `data`, and passing other arguments without an explicit keyword will result in an error or misinterpretation.\n",
      "  warnings.warn(\n"
     ]
    },
    {
     "data": {
      "text/plain": [
       "<AxesSubplot:xlabel='PaperlessBilling', ylabel='count'>"
      ]
     },
     "execution_count": 41,
     "metadata": {},
     "output_type": "execute_result"
    },
    {
     "data": {
      "image/png": "[encoded data removed]",
      "text/plain": [
       "<Figure size 640x480 with 1 Axes>"
      ]
     },
     "metadata": {},
     "output_type": "display_data"
    }
   ],
   "source": [
    "sns.countplot(df[\"PaperlessBilling\"],hue=df[\"Churn\"])"
   ]
  },
  {
   "cell_type": "markdown",
   "id": "bafe9004",
   "metadata": {},
   "source": [
    "According to the above representation 60% of the people opted for paperless billing facility   \n",
    "Out of which 33.50% of the people left the service"
   ]
  },
  {
   "cell_type": "code",
   "execution_count": 42,
   "id": "c26e2505",
   "metadata": {},
   "outputs": [
    {
     "name": "stderr",
     "output_type": "stream",
     "text": [
      "C:\\ProgramData\\Anaconda3\\lib\\site-packages\\seaborn\\_decorators.py:36: FutureWarning: Pass the following variable as a keyword arg: x. From version 0.12, the only valid positional argument will be `data`, and passing other arguments without an explicit keyword will result in an error or misinterpretation.\n",
      "  warnings.warn(\n"
     ]
    },
    {
     "data": {
      "text/plain": [
       "<AxesSubplot:xlabel='PaymentMethod', ylabel='count'>"
      ]
     },
     "execution_count": 42,
     "metadata": {},
     "output_type": "execute_result"
    },
    {
     "data": {
      "image/png": "[encoded data removed]",
      "text/plain": [
       "<Figure size 1000x500 with 1 Axes>"
      ]
     },
     "metadata": {},
     "output_type": "display_data"
    }
   ],
   "source": [
    "plt.figure(figsize=(10,5))\n",
    "sns.countplot(df[\"PaymentMethod\"],hue=df[\"PaperlessBilling\"],palette=\"Blues\")"
   ]
  },
  {
   "cell_type": "code",
   "execution_count": 43,
   "id": "8eef61d2",
   "metadata": {},
   "outputs": [
    {
     "name": "stderr",
     "output_type": "stream",
     "text": [
      "C:\\ProgramData\\Anaconda3\\lib\\site-packages\\seaborn\\_decorators.py:36: FutureWarning: Pass the following variable as a keyword arg: x. From version 0.12, the only valid positional argument will be `data`, and passing other arguments without an explicit keyword will result in an error or misinterpretation.\n",
      "  warnings.warn(\n"
     ]
    },
    {
     "data": {
      "text/plain": [
       "<AxesSubplot:xlabel='PaymentMethod', ylabel='count'>"
      ]
     },
     "execution_count": 43,
     "metadata": {},
     "output_type": "execute_result"
    },
    {
     "data": {
      "image/png": "[encoded data removed]",
      "text/plain": [
       "<Figure size 1000x500 with 1 Axes>"
      ]
     },
     "metadata": {},
     "output_type": "display_data"
    }
   ],
   "source": [
    "plt.figure(figsize=(10,5))\n",
    "sns.countplot(df[\"PaymentMethod\"],hue=df[\"Churn\"])"
   ]
  },
  {
   "cell_type": "code",
   "execution_count": 44,
   "id": "c32f1d89",
   "metadata": {},
   "outputs": [
    {
     "data": {
      "text/html": [
       "<div>\n",
       "<style scoped>\n",
       "    .dataframe tbody tr th:only-of-type {\n",
       "        vertical-align: middle;\n",
       "    }\n",
       "\n",
       "    .dataframe tbody tr th {\n",
       "        vertical-align: top;\n",
       "    }\n",
       "\n",
       "    .dataframe thead th {\n",
       "        text-align: right;\n",
       "    }\n",
       "</style>\n",
       "<table border=\"1\" class=\"dataframe\">\n",
       "  <thead>\n",
       "    <tr style=\"text-align: right;\">\n",
       "      <th>Churn</th>\n",
       "      <th>No</th>\n",
       "      <th>Yes</th>\n",
       "    </tr>\n",
       "    <tr>\n",
       "      <th>PaymentMethod</th>\n",
       "      <th></th>\n",
       "      <th></th>\n",
       "    </tr>\n",
       "  </thead>\n",
       "  <tbody>\n",
       "    <tr>\n",
       "      <th>Bank transfer (automatic)</th>\n",
       "      <td>1284</td>\n",
       "      <td>258</td>\n",
       "    </tr>\n",
       "    <tr>\n",
       "      <th>Credit card (automatic)</th>\n",
       "      <td>1289</td>\n",
       "      <td>232</td>\n",
       "    </tr>\n",
       "    <tr>\n",
       "      <th>Electronic check</th>\n",
       "      <td>1294</td>\n",
       "      <td>1066</td>\n",
       "    </tr>\n",
       "    <tr>\n",
       "      <th>Mailed check</th>\n",
       "      <td>1288</td>\n",
       "      <td>304</td>\n",
       "    </tr>\n",
       "  </tbody>\n",
       "</table>\n",
       "</div>"
      ],
      "text/plain": [
       "Churn                        No   Yes\n",
       "PaymentMethod                        \n",
       "Bank transfer (automatic)  1284   258\n",
       "Credit card (automatic)    1289   232\n",
       "Electronic check           1294  1066\n",
       "Mailed check               1288   304"
      ]
     },
     "execution_count": 44,
     "metadata": {},
     "output_type": "execute_result"
    }
   ],
   "source": [
    "pd.crosstab(df[\"PaymentMethod\"],df[\"Churn\"])"
   ]
  },
  {
   "cell_type": "code",
   "execution_count": 45,
   "id": "99c4b3fc",
   "metadata": {},
   "outputs": [
    {
     "name": "stdout",
     "output_type": "stream",
     "text": [
      "45.17 % of people using the electronic check medium who left the service\n"
     ]
    }
   ],
   "source": [
    "#No of people paying through the electronic check left the service \n",
    "electronic_check_left = (1066*100)/(1294+1066)\n",
    "print(round(electronic_check_left,ndigits=2),\"% of people using the electronic check medium who left the service\")"
   ]
  },
  {
   "cell_type": "code",
   "execution_count": 46,
   "id": "509fad33",
   "metadata": {},
   "outputs": [
    {
     "name": "stderr",
     "output_type": "stream",
     "text": [
      "C:\\ProgramData\\Anaconda3\\lib\\site-packages\\seaborn\\_decorators.py:36: FutureWarning: Pass the following variable as a keyword arg: x. From version 0.12, the only valid positional argument will be `data`, and passing other arguments without an explicit keyword will result in an error or misinterpretation.\n",
      "  warnings.warn(\n"
     ]
    },
    {
     "data": {
      "text/plain": [
       "<AxesSubplot:xlabel='PaymentMethod', ylabel='count'>"
      ]
     },
     "execution_count": 46,
     "metadata": {},
     "output_type": "execute_result"
    },
    {
     "data": {
      "image/png": "[encoded data removed]",
      "text/plain": [
       "<Figure size 1000x500 with 1 Axes>"
      ]
     },
     "metadata": {},
     "output_type": "display_data"
    }
   ],
   "source": [
    "plt.figure(figsize=(10,5))\n",
    "sns.countplot(df[\"PaymentMethod\"],hue=df[\"InternetService\"],palette=\"gist_rainbow_r\")"
   ]
  },
  {
   "cell_type": "code",
   "execution_count": 47,
   "id": "3b43f64f",
   "metadata": {},
   "outputs": [
    {
     "name": "stdout",
     "output_type": "stream",
     "text": [
      "Churn           No  Yes\n",
      "numTechTickets         \n",
      "1               88  168\n",
      "2               75  126\n",
      "3               50  101\n",
      "4               41   92\n",
      "5               29   87\n",
      "6               13   59\n",
      "7                1   28\n",
      "8                0   11\n",
      "9                0    1\n"
     ]
    }
   ],
   "source": [
    "df1=pd.crosstab(df[\"numTechTickets\"],df[\"Churn\"])\n",
    "df1=df1.iloc[1:,:]\n",
    "print(df1)"
   ]
  },
  {
   "cell_type": "code",
   "execution_count": 48,
   "id": "b3debfa9",
   "metadata": {},
   "outputs": [
    {
     "name": "stdout",
     "output_type": "stream",
     "text": [
      "69.38 % (673 customer) who raised the tech ticket left the service out of 970 ticket raised\n"
     ]
    }
   ],
   "source": [
    "column_sum = 0\n",
    "for value in df1['No']:\n",
    "    column_sum += value\n",
    "column_sum1 = 0\n",
    "for value in df1['Yes']:\n",
    "    column_sum1 += value\n",
    "total=column_sum+column_sum1\n",
    "tech_ticket_raised_and_left = column_sum1*100/total\n",
    "print(round(tech_ticket_raised_and_left,ndigits=2),\"% (673 customer) who raised the tech ticket left the service out of 970 ticket raised\")"
   ]
  },
  {
   "cell_type": "code",
   "execution_count": 49,
   "id": "eff6958b",
   "metadata": {},
   "outputs": [
    {
     "name": "stderr",
     "output_type": "stream",
     "text": [
      "C:\\ProgramData\\Anaconda3\\lib\\site-packages\\seaborn\\_decorators.py:36: FutureWarning: Pass the following variable as a keyword arg: x. From version 0.12, the only valid positional argument will be `data`, and passing other arguments without an explicit keyword will result in an error or misinterpretation.\n",
      "  warnings.warn(\n"
     ]
    },
    {
     "data": {
      "text/plain": [
       "<AxesSubplot:xlabel='numTechTickets', ylabel='count'>"
      ]
     },
     "execution_count": 49,
     "metadata": {},
     "output_type": "execute_result"
    },
    {
     "data": {
      "image/png": "[encoded data removed]",
      "text/plain": [
       "<Figure size 640x480 with 1 Axes>"
      ]
     },
     "metadata": {},
     "output_type": "display_data"
    }
   ],
   "source": [
    "sns.countplot(df[\"numTechTickets\"],hue=df[\"Churn\"])\n"
   ]
  },
  {
   "cell_type": "code",
   "execution_count": 50,
   "id": "68afe618",
   "metadata": {},
   "outputs": [
    {
     "data": {
      "text/html": [
       "<div>\n",
       "<style scoped>\n",
       "    .dataframe tbody tr th:only-of-type {\n",
       "        vertical-align: middle;\n",
       "    }\n",
       "\n",
       "    .dataframe tbody tr th {\n",
       "        vertical-align: top;\n",
       "    }\n",
       "\n",
       "    .dataframe thead th {\n",
       "        text-align: right;\n",
       "    }\n",
       "</style>\n",
       "<table border=\"1\" class=\"dataframe\">\n",
       "  <thead>\n",
       "    <tr style=\"text-align: right;\">\n",
       "      <th>Churn</th>\n",
       "      <th>No</th>\n",
       "      <th>Yes</th>\n",
       "    </tr>\n",
       "    <tr>\n",
       "      <th>numAdminTickets</th>\n",
       "      <th></th>\n",
       "      <th></th>\n",
       "    </tr>\n",
       "  </thead>\n",
       "  <tbody>\n",
       "    <tr>\n",
       "      <th>0</th>\n",
       "      <td>4245</td>\n",
       "      <td>1573</td>\n",
       "    </tr>\n",
       "    <tr>\n",
       "      <th>1</th>\n",
       "      <td>175</td>\n",
       "      <td>47</td>\n",
       "    </tr>\n",
       "    <tr>\n",
       "      <th>2</th>\n",
       "      <td>181</td>\n",
       "      <td>62</td>\n",
       "    </tr>\n",
       "    <tr>\n",
       "      <th>3</th>\n",
       "      <td>195</td>\n",
       "      <td>67</td>\n",
       "    </tr>\n",
       "    <tr>\n",
       "      <th>4</th>\n",
       "      <td>181</td>\n",
       "      <td>47</td>\n",
       "    </tr>\n",
       "    <tr>\n",
       "      <th>5</th>\n",
       "      <td>178</td>\n",
       "      <td>64</td>\n",
       "    </tr>\n",
       "  </tbody>\n",
       "</table>\n",
       "</div>"
      ],
      "text/plain": [
       "Churn              No   Yes\n",
       "numAdminTickets            \n",
       "0                4245  1573\n",
       "1                 175    47\n",
       "2                 181    62\n",
       "3                 195    67\n",
       "4                 181    47\n",
       "5                 178    64"
      ]
     },
     "execution_count": 50,
     "metadata": {},
     "output_type": "execute_result"
    }
   ],
   "source": [
    "pd.crosstab(df[\"numAdminTickets\"],df[\"Churn\"])"
   ]
  },
  {
   "cell_type": "markdown",
   "id": "060b458a",
   "metadata": {},
   "source": [
    "# Model training"
   ]
  },
  {
   "cell_type": "code",
   "execution_count": 51,
   "id": "92052a8a",
   "metadata": {},
   "outputs": [],
   "source": [
    "X=df.drop(columns=\"Churn\") #Creating the X columns which is the feature of the data\n",
    "y=df[\"Churn\"] #our target variable on which we are finding the reason "
   ]
  },
  {
   "cell_type": "markdown",
   "id": "67b472d1",
   "metadata": {},
   "source": [
    "# Using label encoding"
   ]
  },
  {
   "cell_type": "markdown",
   "id": "e3cf4d0c",
   "metadata": {},
   "source": [
    "As the model take on the value mostly in numerical form we will first convert our data in numerical form"
   ]
  },
  {
   "cell_type": "code",
   "execution_count": 52,
   "id": "dd9bdad8",
   "metadata": {},
   "outputs": [],
   "source": [
    "from sklearn.preprocessing import LabelEncoder\n",
    "# Create an instance of LabelEncoder\n",
    "label_encoder = LabelEncoder()\n",
    "\n",
    "# Iterate over each column in X\n",
    "for column in X.columns:\n",
    "    if X[column].dtype == 'object':\n",
    "        # Apply label encoding only to object (categorical) columns\n",
    "        X[column] = label_encoder.fit_transform(X[column])\n",
    "y=label_encoder.fit_transform(y)"
   ]
  },
  {
   "cell_type": "code",
   "execution_count": 53,
   "id": "171f445b",
   "metadata": {},
   "outputs": [
    {
     "data": {
      "text/html": [
       "<div>\n",
       "<style scoped>\n",
       "    .dataframe tbody tr th:only-of-type {\n",
       "        vertical-align: middle;\n",
       "    }\n",
       "\n",
       "    .dataframe tbody tr th {\n",
       "        vertical-align: top;\n",
       "    }\n",
       "\n",
       "    .dataframe thead th {\n",
       "        text-align: right;\n",
       "    }\n",
       "</style>\n",
       "<table border=\"1\" class=\"dataframe\">\n",
       "  <thead>\n",
       "    <tr style=\"text-align: right;\">\n",
       "      <th></th>\n",
       "      <th>gender</th>\n",
       "      <th>SeniorCitizen</th>\n",
       "      <th>Partner</th>\n",
       "      <th>Dependents</th>\n",
       "      <th>PhoneService</th>\n",
       "      <th>MultipleLines</th>\n",
       "      <th>InternetService</th>\n",
       "      <th>OnlineSecurity</th>\n",
       "      <th>OnlineBackup</th>\n",
       "      <th>DeviceProtection</th>\n",
       "      <th>TechSupport</th>\n",
       "      <th>StreamingTV</th>\n",
       "      <th>StreamingMovies</th>\n",
       "      <th>Contract</th>\n",
       "      <th>PaperlessBilling</th>\n",
       "      <th>PaymentMethod</th>\n",
       "      <th>MonthlyCharges</th>\n",
       "      <th>TotalCharges</th>\n",
       "      <th>numAdminTickets</th>\n",
       "      <th>numTechTickets</th>\n",
       "    </tr>\n",
       "  </thead>\n",
       "  <tbody>\n",
       "    <tr>\n",
       "      <th>0</th>\n",
       "      <td>0</td>\n",
       "      <td>0</td>\n",
       "      <td>1</td>\n",
       "      <td>0</td>\n",
       "      <td>0</td>\n",
       "      <td>1</td>\n",
       "      <td>0</td>\n",
       "      <td>0</td>\n",
       "      <td>2</td>\n",
       "      <td>0</td>\n",
       "      <td>0</td>\n",
       "      <td>0</td>\n",
       "      <td>0</td>\n",
       "      <td>0</td>\n",
       "      <td>1</td>\n",
       "      <td>2</td>\n",
       "      <td>29.85</td>\n",
       "      <td>29.85</td>\n",
       "      <td>0</td>\n",
       "      <td>0</td>\n",
       "    </tr>\n",
       "    <tr>\n",
       "      <th>1</th>\n",
       "      <td>1</td>\n",
       "      <td>0</td>\n",
       "      <td>0</td>\n",
       "      <td>0</td>\n",
       "      <td>1</td>\n",
       "      <td>0</td>\n",
       "      <td>0</td>\n",
       "      <td>2</td>\n",
       "      <td>0</td>\n",
       "      <td>2</td>\n",
       "      <td>0</td>\n",
       "      <td>0</td>\n",
       "      <td>0</td>\n",
       "      <td>1</td>\n",
       "      <td>0</td>\n",
       "      <td>3</td>\n",
       "      <td>56.95</td>\n",
       "      <td>1889.50</td>\n",
       "      <td>0</td>\n",
       "      <td>0</td>\n",
       "    </tr>\n",
       "    <tr>\n",
       "      <th>2</th>\n",
       "      <td>1</td>\n",
       "      <td>0</td>\n",
       "      <td>0</td>\n",
       "      <td>0</td>\n",
       "      <td>1</td>\n",
       "      <td>0</td>\n",
       "      <td>0</td>\n",
       "      <td>2</td>\n",
       "      <td>2</td>\n",
       "      <td>0</td>\n",
       "      <td>0</td>\n",
       "      <td>0</td>\n",
       "      <td>0</td>\n",
       "      <td>0</td>\n",
       "      <td>1</td>\n",
       "      <td>3</td>\n",
       "      <td>53.85</td>\n",
       "      <td>108.15</td>\n",
       "      <td>0</td>\n",
       "      <td>0</td>\n",
       "    </tr>\n",
       "    <tr>\n",
       "      <th>3</th>\n",
       "      <td>1</td>\n",
       "      <td>0</td>\n",
       "      <td>0</td>\n",
       "      <td>0</td>\n",
       "      <td>0</td>\n",
       "      <td>1</td>\n",
       "      <td>0</td>\n",
       "      <td>2</td>\n",
       "      <td>0</td>\n",
       "      <td>2</td>\n",
       "      <td>2</td>\n",
       "      <td>0</td>\n",
       "      <td>0</td>\n",
       "      <td>1</td>\n",
       "      <td>0</td>\n",
       "      <td>0</td>\n",
       "      <td>42.30</td>\n",
       "      <td>1840.75</td>\n",
       "      <td>0</td>\n",
       "      <td>3</td>\n",
       "    </tr>\n",
       "    <tr>\n",
       "      <th>4</th>\n",
       "      <td>0</td>\n",
       "      <td>0</td>\n",
       "      <td>0</td>\n",
       "      <td>0</td>\n",
       "      <td>1</td>\n",
       "      <td>0</td>\n",
       "      <td>1</td>\n",
       "      <td>0</td>\n",
       "      <td>0</td>\n",
       "      <td>0</td>\n",
       "      <td>0</td>\n",
       "      <td>0</td>\n",
       "      <td>0</td>\n",
       "      <td>0</td>\n",
       "      <td>1</td>\n",
       "      <td>2</td>\n",
       "      <td>70.70</td>\n",
       "      <td>151.65</td>\n",
       "      <td>0</td>\n",
       "      <td>0</td>\n",
       "    </tr>\n",
       "    <tr>\n",
       "      <th>...</th>\n",
       "      <td>...</td>\n",
       "      <td>...</td>\n",
       "      <td>...</td>\n",
       "      <td>...</td>\n",
       "      <td>...</td>\n",
       "      <td>...</td>\n",
       "      <td>...</td>\n",
       "      <td>...</td>\n",
       "      <td>...</td>\n",
       "      <td>...</td>\n",
       "      <td>...</td>\n",
       "      <td>...</td>\n",
       "      <td>...</td>\n",
       "      <td>...</td>\n",
       "      <td>...</td>\n",
       "      <td>...</td>\n",
       "      <td>...</td>\n",
       "      <td>...</td>\n",
       "      <td>...</td>\n",
       "      <td>...</td>\n",
       "    </tr>\n",
       "    <tr>\n",
       "      <th>7027</th>\n",
       "      <td>1</td>\n",
       "      <td>0</td>\n",
       "      <td>1</td>\n",
       "      <td>1</td>\n",
       "      <td>1</td>\n",
       "      <td>2</td>\n",
       "      <td>0</td>\n",
       "      <td>2</td>\n",
       "      <td>0</td>\n",
       "      <td>2</td>\n",
       "      <td>2</td>\n",
       "      <td>2</td>\n",
       "      <td>2</td>\n",
       "      <td>1</td>\n",
       "      <td>1</td>\n",
       "      <td>3</td>\n",
       "      <td>84.80</td>\n",
       "      <td>1990.50</td>\n",
       "      <td>0</td>\n",
       "      <td>0</td>\n",
       "    </tr>\n",
       "    <tr>\n",
       "      <th>7028</th>\n",
       "      <td>0</td>\n",
       "      <td>0</td>\n",
       "      <td>1</td>\n",
       "      <td>1</td>\n",
       "      <td>1</td>\n",
       "      <td>2</td>\n",
       "      <td>1</td>\n",
       "      <td>0</td>\n",
       "      <td>2</td>\n",
       "      <td>2</td>\n",
       "      <td>0</td>\n",
       "      <td>2</td>\n",
       "      <td>2</td>\n",
       "      <td>1</td>\n",
       "      <td>1</td>\n",
       "      <td>1</td>\n",
       "      <td>103.20</td>\n",
       "      <td>7362.90</td>\n",
       "      <td>0</td>\n",
       "      <td>5</td>\n",
       "    </tr>\n",
       "    <tr>\n",
       "      <th>7029</th>\n",
       "      <td>0</td>\n",
       "      <td>0</td>\n",
       "      <td>1</td>\n",
       "      <td>1</td>\n",
       "      <td>0</td>\n",
       "      <td>1</td>\n",
       "      <td>0</td>\n",
       "      <td>2</td>\n",
       "      <td>0</td>\n",
       "      <td>0</td>\n",
       "      <td>0</td>\n",
       "      <td>0</td>\n",
       "      <td>0</td>\n",
       "      <td>0</td>\n",
       "      <td>1</td>\n",
       "      <td>2</td>\n",
       "      <td>29.60</td>\n",
       "      <td>346.45</td>\n",
       "      <td>0</td>\n",
       "      <td>0</td>\n",
       "    </tr>\n",
       "    <tr>\n",
       "      <th>7030</th>\n",
       "      <td>1</td>\n",
       "      <td>1</td>\n",
       "      <td>1</td>\n",
       "      <td>0</td>\n",
       "      <td>1</td>\n",
       "      <td>2</td>\n",
       "      <td>1</td>\n",
       "      <td>0</td>\n",
       "      <td>0</td>\n",
       "      <td>0</td>\n",
       "      <td>0</td>\n",
       "      <td>0</td>\n",
       "      <td>0</td>\n",
       "      <td>0</td>\n",
       "      <td>1</td>\n",
       "      <td>3</td>\n",
       "      <td>74.40</td>\n",
       "      <td>306.60</td>\n",
       "      <td>0</td>\n",
       "      <td>0</td>\n",
       "    </tr>\n",
       "    <tr>\n",
       "      <th>7031</th>\n",
       "      <td>1</td>\n",
       "      <td>0</td>\n",
       "      <td>0</td>\n",
       "      <td>0</td>\n",
       "      <td>1</td>\n",
       "      <td>0</td>\n",
       "      <td>1</td>\n",
       "      <td>2</td>\n",
       "      <td>0</td>\n",
       "      <td>2</td>\n",
       "      <td>2</td>\n",
       "      <td>2</td>\n",
       "      <td>2</td>\n",
       "      <td>2</td>\n",
       "      <td>1</td>\n",
       "      <td>0</td>\n",
       "      <td>105.65</td>\n",
       "      <td>6844.50</td>\n",
       "      <td>2</td>\n",
       "      <td>0</td>\n",
       "    </tr>\n",
       "  </tbody>\n",
       "</table>\n",
       "<p>7015 rows × 20 columns</p>\n",
       "</div>"
      ],
      "text/plain": [
       "      gender  SeniorCitizen  Partner  Dependents  PhoneService  MultipleLines  \\\n",
       "0          0              0        1           0             0              1   \n",
       "1          1              0        0           0             1              0   \n",
       "2          1              0        0           0             1              0   \n",
       "3          1              0        0           0             0              1   \n",
       "4          0              0        0           0             1              0   \n",
       "...      ...            ...      ...         ...           ...            ...   \n",
       "7027       1              0        1           1             1              2   \n",
       "7028       0              0        1           1             1              2   \n",
       "7029       0              0        1           1             0              1   \n",
       "7030       1              1        1           0             1              2   \n",
       "7031       1              0        0           0             1              0   \n",
       "\n",
       "      InternetService  OnlineSecurity  OnlineBackup  DeviceProtection  \\\n",
       "0                   0               0             2                 0   \n",
       "1                   0               2             0                 2   \n",
       "2                   0               2             2                 0   \n",
       "3                   0               2             0                 2   \n",
       "4                   1               0             0                 0   \n",
       "...               ...             ...           ...               ...   \n",
       "7027                0               2             0                 2   \n",
       "7028                1               0             2                 2   \n",
       "7029                0               2             0                 0   \n",
       "7030                1               0             0                 0   \n",
       "7031                1               2             0                 2   \n",
       "\n",
       "      TechSupport  StreamingTV  StreamingMovies  Contract  PaperlessBilling  \\\n",
       "0               0            0                0         0                 1   \n",
       "1               0            0                0         1                 0   \n",
       "2               0            0                0         0                 1   \n",
       "3               2            0                0         1                 0   \n",
       "4               0            0                0         0                 1   \n",
       "...           ...          ...              ...       ...               ...   \n",
       "7027            2            2                2         1                 1   \n",
       "7028            0            2                2         1                 1   \n",
       "7029            0            0                0         0                 1   \n",
       "7030            0            0                0         0                 1   \n",
       "7031            2            2                2         2                 1   \n",
       "\n",
       "      PaymentMethod  MonthlyCharges  TotalCharges  numAdminTickets  \\\n",
       "0                 2           29.85         29.85                0   \n",
       "1                 3           56.95       1889.50                0   \n",
       "2                 3           53.85        108.15                0   \n",
       "3                 0           42.30       1840.75                0   \n",
       "4                 2           70.70        151.65                0   \n",
       "...             ...             ...           ...              ...   \n",
       "7027              3           84.80       1990.50                0   \n",
       "7028              1          103.20       7362.90                0   \n",
       "7029              2           29.60        346.45                0   \n",
       "7030              3           74.40        306.60                0   \n",
       "7031              0          105.65       6844.50                2   \n",
       "\n",
       "      numTechTickets  \n",
       "0                  0  \n",
       "1                  0  \n",
       "2                  0  \n",
       "3                  3  \n",
       "4                  0  \n",
       "...              ...  \n",
       "7027               0  \n",
       "7028               5  \n",
       "7029               0  \n",
       "7030               0  \n",
       "7031               0  \n",
       "\n",
       "[7015 rows x 20 columns]"
      ]
     },
     "execution_count": 53,
     "metadata": {},
     "output_type": "execute_result"
    }
   ],
   "source": [
    "X"
   ]
  },
  {
   "cell_type": "code",
   "execution_count": 54,
   "id": "bdf97573",
   "metadata": {},
   "outputs": [
    {
     "data": {
      "text/plain": [
       "7015"
      ]
     },
     "execution_count": 54,
     "metadata": {},
     "output_type": "execute_result"
    }
   ],
   "source": [
    "len(y)"
   ]
  },
  {
   "cell_type": "markdown",
   "id": "042df9ac",
   "metadata": {},
   "source": [
    "Here we have change the categorical data to numerical data using the lable encoding method   \n",
    "Here we have 7015 feature row and 20 feature columns  \n",
    "Also the data in the target variable is converted to numerical form where 1 means yes and 0 means no it also contain 7015 elements"
   ]
  },
  {
   "cell_type": "markdown",
   "id": "5da655a9",
   "metadata": {},
   "source": [
    "# Min Max usage\n",
    "+ As the columns (Totalchages and Monthly charges) contain the data which is not according to the normal scaling of the data frame we are using this method by which it will be converted between 0 to 1"
   ]
  },
  {
   "cell_type": "code",
   "execution_count": 55,
   "id": "92fc854d",
   "metadata": {},
   "outputs": [],
   "source": [
    "from sklearn.preprocessing import MinMaxScaler\n",
    "scaler = MinMaxScaler()\n",
    "scaled_data = scaler.fit_transform(X)"
   ]
  },
  {
   "cell_type": "code",
   "execution_count": 56,
   "id": "38a4859a",
   "metadata": {},
   "outputs": [
    {
     "data": {
      "text/html": [
       "<div>\n",
       "<style scoped>\n",
       "    .dataframe tbody tr th:only-of-type {\n",
       "        vertical-align: middle;\n",
       "    }\n",
       "\n",
       "    .dataframe tbody tr th {\n",
       "        vertical-align: top;\n",
       "    }\n",
       "\n",
       "    .dataframe thead th {\n",
       "        text-align: right;\n",
       "    }\n",
       "</style>\n",
       "<table border=\"1\" class=\"dataframe\">\n",
       "  <thead>\n",
       "    <tr style=\"text-align: right;\">\n",
       "      <th></th>\n",
       "      <th>0</th>\n",
       "      <th>1</th>\n",
       "      <th>2</th>\n",
       "      <th>3</th>\n",
       "      <th>4</th>\n",
       "      <th>5</th>\n",
       "      <th>6</th>\n",
       "      <th>7</th>\n",
       "      <th>8</th>\n",
       "      <th>9</th>\n",
       "      <th>10</th>\n",
       "      <th>11</th>\n",
       "      <th>12</th>\n",
       "      <th>13</th>\n",
       "      <th>14</th>\n",
       "      <th>15</th>\n",
       "      <th>16</th>\n",
       "      <th>17</th>\n",
       "      <th>18</th>\n",
       "      <th>19</th>\n",
       "    </tr>\n",
       "  </thead>\n",
       "  <tbody>\n",
       "    <tr>\n",
       "      <th>0</th>\n",
       "      <td>0.0</td>\n",
       "      <td>0.0</td>\n",
       "      <td>1.0</td>\n",
       "      <td>0.0</td>\n",
       "      <td>0.0</td>\n",
       "      <td>0.5</td>\n",
       "      <td>0.0</td>\n",
       "      <td>0.0</td>\n",
       "      <td>1.0</td>\n",
       "      <td>0.0</td>\n",
       "      <td>0.0</td>\n",
       "      <td>0.0</td>\n",
       "      <td>0.0</td>\n",
       "      <td>0.0</td>\n",
       "      <td>1.0</td>\n",
       "      <td>0.666667</td>\n",
       "      <td>0.115423</td>\n",
       "      <td>0.001275</td>\n",
       "      <td>0.0</td>\n",
       "      <td>0.000000</td>\n",
       "    </tr>\n",
       "    <tr>\n",
       "      <th>1</th>\n",
       "      <td>1.0</td>\n",
       "      <td>0.0</td>\n",
       "      <td>0.0</td>\n",
       "      <td>0.0</td>\n",
       "      <td>1.0</td>\n",
       "      <td>0.0</td>\n",
       "      <td>0.0</td>\n",
       "      <td>1.0</td>\n",
       "      <td>0.0</td>\n",
       "      <td>1.0</td>\n",
       "      <td>0.0</td>\n",
       "      <td>0.0</td>\n",
       "      <td>0.0</td>\n",
       "      <td>0.5</td>\n",
       "      <td>0.0</td>\n",
       "      <td>1.000000</td>\n",
       "      <td>0.385075</td>\n",
       "      <td>0.215867</td>\n",
       "      <td>0.0</td>\n",
       "      <td>0.000000</td>\n",
       "    </tr>\n",
       "    <tr>\n",
       "      <th>2</th>\n",
       "      <td>1.0</td>\n",
       "      <td>0.0</td>\n",
       "      <td>0.0</td>\n",
       "      <td>0.0</td>\n",
       "      <td>1.0</td>\n",
       "      <td>0.0</td>\n",
       "      <td>0.0</td>\n",
       "      <td>1.0</td>\n",
       "      <td>1.0</td>\n",
       "      <td>0.0</td>\n",
       "      <td>0.0</td>\n",
       "      <td>0.0</td>\n",
       "      <td>0.0</td>\n",
       "      <td>0.0</td>\n",
       "      <td>1.0</td>\n",
       "      <td>1.000000</td>\n",
       "      <td>0.354229</td>\n",
       "      <td>0.010310</td>\n",
       "      <td>0.0</td>\n",
       "      <td>0.000000</td>\n",
       "    </tr>\n",
       "    <tr>\n",
       "      <th>3</th>\n",
       "      <td>1.0</td>\n",
       "      <td>0.0</td>\n",
       "      <td>0.0</td>\n",
       "      <td>0.0</td>\n",
       "      <td>0.0</td>\n",
       "      <td>0.5</td>\n",
       "      <td>0.0</td>\n",
       "      <td>1.0</td>\n",
       "      <td>0.0</td>\n",
       "      <td>1.0</td>\n",
       "      <td>1.0</td>\n",
       "      <td>0.0</td>\n",
       "      <td>0.0</td>\n",
       "      <td>0.5</td>\n",
       "      <td>0.0</td>\n",
       "      <td>0.000000</td>\n",
       "      <td>0.239303</td>\n",
       "      <td>0.210241</td>\n",
       "      <td>0.0</td>\n",
       "      <td>0.333333</td>\n",
       "    </tr>\n",
       "    <tr>\n",
       "      <th>4</th>\n",
       "      <td>0.0</td>\n",
       "      <td>0.0</td>\n",
       "      <td>0.0</td>\n",
       "      <td>0.0</td>\n",
       "      <td>1.0</td>\n",
       "      <td>0.0</td>\n",
       "      <td>0.5</td>\n",
       "      <td>0.0</td>\n",
       "      <td>0.0</td>\n",
       "      <td>0.0</td>\n",
       "      <td>0.0</td>\n",
       "      <td>0.0</td>\n",
       "      <td>0.0</td>\n",
       "      <td>0.0</td>\n",
       "      <td>1.0</td>\n",
       "      <td>0.666667</td>\n",
       "      <td>0.521891</td>\n",
       "      <td>0.015330</td>\n",
       "      <td>0.0</td>\n",
       "      <td>0.000000</td>\n",
       "    </tr>\n",
       "    <tr>\n",
       "      <th>...</th>\n",
       "      <td>...</td>\n",
       "      <td>...</td>\n",
       "      <td>...</td>\n",
       "      <td>...</td>\n",
       "      <td>...</td>\n",
       "      <td>...</td>\n",
       "      <td>...</td>\n",
       "      <td>...</td>\n",
       "      <td>...</td>\n",
       "      <td>...</td>\n",
       "      <td>...</td>\n",
       "      <td>...</td>\n",
       "      <td>...</td>\n",
       "      <td>...</td>\n",
       "      <td>...</td>\n",
       "      <td>...</td>\n",
       "      <td>...</td>\n",
       "      <td>...</td>\n",
       "      <td>...</td>\n",
       "      <td>...</td>\n",
       "    </tr>\n",
       "    <tr>\n",
       "      <th>7010</th>\n",
       "      <td>1.0</td>\n",
       "      <td>0.0</td>\n",
       "      <td>1.0</td>\n",
       "      <td>1.0</td>\n",
       "      <td>1.0</td>\n",
       "      <td>1.0</td>\n",
       "      <td>0.0</td>\n",
       "      <td>1.0</td>\n",
       "      <td>0.0</td>\n",
       "      <td>1.0</td>\n",
       "      <td>1.0</td>\n",
       "      <td>1.0</td>\n",
       "      <td>1.0</td>\n",
       "      <td>0.5</td>\n",
       "      <td>1.0</td>\n",
       "      <td>1.000000</td>\n",
       "      <td>0.662189</td>\n",
       "      <td>0.227521</td>\n",
       "      <td>0.0</td>\n",
       "      <td>0.000000</td>\n",
       "    </tr>\n",
       "    <tr>\n",
       "      <th>7011</th>\n",
       "      <td>0.0</td>\n",
       "      <td>0.0</td>\n",
       "      <td>1.0</td>\n",
       "      <td>1.0</td>\n",
       "      <td>1.0</td>\n",
       "      <td>1.0</td>\n",
       "      <td>0.5</td>\n",
       "      <td>0.0</td>\n",
       "      <td>1.0</td>\n",
       "      <td>1.0</td>\n",
       "      <td>0.0</td>\n",
       "      <td>1.0</td>\n",
       "      <td>1.0</td>\n",
       "      <td>0.5</td>\n",
       "      <td>1.0</td>\n",
       "      <td>0.333333</td>\n",
       "      <td>0.845274</td>\n",
       "      <td>0.847461</td>\n",
       "      <td>0.0</td>\n",
       "      <td>0.555556</td>\n",
       "    </tr>\n",
       "    <tr>\n",
       "      <th>7012</th>\n",
       "      <td>0.0</td>\n",
       "      <td>0.0</td>\n",
       "      <td>1.0</td>\n",
       "      <td>1.0</td>\n",
       "      <td>0.0</td>\n",
       "      <td>0.5</td>\n",
       "      <td>0.0</td>\n",
       "      <td>1.0</td>\n",
       "      <td>0.0</td>\n",
       "      <td>0.0</td>\n",
       "      <td>0.0</td>\n",
       "      <td>0.0</td>\n",
       "      <td>0.0</td>\n",
       "      <td>0.0</td>\n",
       "      <td>1.0</td>\n",
       "      <td>0.666667</td>\n",
       "      <td>0.112935</td>\n",
       "      <td>0.037809</td>\n",
       "      <td>0.0</td>\n",
       "      <td>0.000000</td>\n",
       "    </tr>\n",
       "    <tr>\n",
       "      <th>7013</th>\n",
       "      <td>1.0</td>\n",
       "      <td>1.0</td>\n",
       "      <td>1.0</td>\n",
       "      <td>0.0</td>\n",
       "      <td>1.0</td>\n",
       "      <td>1.0</td>\n",
       "      <td>0.5</td>\n",
       "      <td>0.0</td>\n",
       "      <td>0.0</td>\n",
       "      <td>0.0</td>\n",
       "      <td>0.0</td>\n",
       "      <td>0.0</td>\n",
       "      <td>0.0</td>\n",
       "      <td>0.0</td>\n",
       "      <td>1.0</td>\n",
       "      <td>1.000000</td>\n",
       "      <td>0.558706</td>\n",
       "      <td>0.033210</td>\n",
       "      <td>0.0</td>\n",
       "      <td>0.000000</td>\n",
       "    </tr>\n",
       "    <tr>\n",
       "      <th>7014</th>\n",
       "      <td>1.0</td>\n",
       "      <td>0.0</td>\n",
       "      <td>0.0</td>\n",
       "      <td>0.0</td>\n",
       "      <td>1.0</td>\n",
       "      <td>0.0</td>\n",
       "      <td>0.5</td>\n",
       "      <td>1.0</td>\n",
       "      <td>0.0</td>\n",
       "      <td>1.0</td>\n",
       "      <td>1.0</td>\n",
       "      <td>1.0</td>\n",
       "      <td>1.0</td>\n",
       "      <td>1.0</td>\n",
       "      <td>1.0</td>\n",
       "      <td>0.000000</td>\n",
       "      <td>0.869652</td>\n",
       "      <td>0.787641</td>\n",
       "      <td>0.4</td>\n",
       "      <td>0.000000</td>\n",
       "    </tr>\n",
       "  </tbody>\n",
       "</table>\n",
       "<p>7015 rows × 20 columns</p>\n",
       "</div>"
      ],
      "text/plain": [
       "       0    1    2    3    4    5    6    7    8    9    10   11   12   13  \\\n",
       "0     0.0  0.0  1.0  0.0  0.0  0.5  0.0  0.0  1.0  0.0  0.0  0.0  0.0  0.0   \n",
       "1     1.0  0.0  0.0  0.0  1.0  0.0  0.0  1.0  0.0  1.0  0.0  0.0  0.0  0.5   \n",
       "2     1.0  0.0  0.0  0.0  1.0  0.0  0.0  1.0  1.0  0.0  0.0  0.0  0.0  0.0   \n",
       "3     1.0  0.0  0.0  0.0  0.0  0.5  0.0  1.0  0.0  1.0  1.0  0.0  0.0  0.5   \n",
       "4     0.0  0.0  0.0  0.0  1.0  0.0  0.5  0.0  0.0  0.0  0.0  0.0  0.0  0.0   \n",
       "...   ...  ...  ...  ...  ...  ...  ...  ...  ...  ...  ...  ...  ...  ...   \n",
       "7010  1.0  0.0  1.0  1.0  1.0  1.0  0.0  1.0  0.0  1.0  1.0  1.0  1.0  0.5   \n",
       "7011  0.0  0.0  1.0  1.0  1.0  1.0  0.5  0.0  1.0  1.0  0.0  1.0  1.0  0.5   \n",
       "7012  0.0  0.0  1.0  1.0  0.0  0.5  0.0  1.0  0.0  0.0  0.0  0.0  0.0  0.0   \n",
       "7013  1.0  1.0  1.0  0.0  1.0  1.0  0.5  0.0  0.0  0.0  0.0  0.0  0.0  0.0   \n",
       "7014  1.0  0.0  0.0  0.0  1.0  0.0  0.5  1.0  0.0  1.0  1.0  1.0  1.0  1.0   \n",
       "\n",
       "       14        15        16        17   18        19  \n",
       "0     1.0  0.666667  0.115423  0.001275  0.0  0.000000  \n",
       "1     0.0  1.000000  0.385075  0.215867  0.0  0.000000  \n",
       "2     1.0  1.000000  0.354229  0.010310  0.0  0.000000  \n",
       "3     0.0  0.000000  0.239303  0.210241  0.0  0.333333  \n",
       "4     1.0  0.666667  0.521891  0.015330  0.0  0.000000  \n",
       "...   ...       ...       ...       ...  ...       ...  \n",
       "7010  1.0  1.000000  0.662189  0.227521  0.0  0.000000  \n",
       "7011  1.0  0.333333  0.845274  0.847461  0.0  0.555556  \n",
       "7012  1.0  0.666667  0.112935  0.037809  0.0  0.000000  \n",
       "7013  1.0  1.000000  0.558706  0.033210  0.0  0.000000  \n",
       "7014  1.0  0.000000  0.869652  0.787641  0.4  0.000000  \n",
       "\n",
       "[7015 rows x 20 columns]"
      ]
     },
     "execution_count": 56,
     "metadata": {},
     "output_type": "execute_result"
    }
   ],
   "source": [
    "X = pd.DataFrame(scaled_data)\n",
    "X"
   ]
  },
  {
   "cell_type": "markdown",
   "id": "3a0ddd27",
   "metadata": {},
   "source": [
    "# Using the train test split\n",
    "+ Spillting the data into train and test so that the we can test our model after the creating it on the basis of the train data  \n",
    "+ Here we select the test_sixe=0.2 so that the data is converted to 20% test size and the remaining 80% as the training data\n",
    "+ Also we are selecting the random state as 20 so that the data do not change as we run the code again"
   ]
  },
  {
   "cell_type": "code",
   "execution_count": 57,
   "id": "a447faa5",
   "metadata": {},
   "outputs": [],
   "source": [
    "from sklearn.model_selection import train_test_split\n",
    "X_train,X_test,y_train,y_test=train_test_split(X,y,test_size=0.2,random_state=20)"
   ]
  },
  {
   "cell_type": "code",
   "execution_count": 58,
   "id": "11e67f41",
   "metadata": {},
   "outputs": [
    {
     "name": "stdout",
     "output_type": "stream",
     "text": [
      "The number of rows in the X_train data is 5612\n",
      "The number of rows in the y_train data is 5612\n",
      "The number of rows in the X_test data is 1403\n",
      "The number of rows in the y_test data is 1403\n"
     ]
    }
   ],
   "source": [
    "print(\"The number of rows in the X_train data is\",len(X_train))\n",
    "print(\"The number of rows in the y_train data is\",len(y_train))\n",
    "print(\"The number of rows in the X_test data is\",len(X_test))\n",
    "print(\"The number of rows in the y_test data is\",len(y_test))\n"
   ]
  },
  {
   "cell_type": "code",
   "execution_count": 59,
   "id": "a84493c9",
   "metadata": {},
   "outputs": [
    {
     "data": {
      "text/html": [
       "<div>\n",
       "<style scoped>\n",
       "    .dataframe tbody tr th:only-of-type {\n",
       "        vertical-align: middle;\n",
       "    }\n",
       "\n",
       "    .dataframe tbody tr th {\n",
       "        vertical-align: top;\n",
       "    }\n",
       "\n",
       "    .dataframe thead th {\n",
       "        text-align: right;\n",
       "    }\n",
       "</style>\n",
       "<table border=\"1\" class=\"dataframe\">\n",
       "  <thead>\n",
       "    <tr style=\"text-align: right;\">\n",
       "      <th></th>\n",
       "      <th>0</th>\n",
       "      <th>1</th>\n",
       "      <th>2</th>\n",
       "      <th>3</th>\n",
       "      <th>4</th>\n",
       "      <th>5</th>\n",
       "      <th>6</th>\n",
       "      <th>7</th>\n",
       "      <th>8</th>\n",
       "      <th>9</th>\n",
       "      <th>10</th>\n",
       "      <th>11</th>\n",
       "      <th>12</th>\n",
       "      <th>13</th>\n",
       "      <th>14</th>\n",
       "      <th>15</th>\n",
       "      <th>16</th>\n",
       "      <th>17</th>\n",
       "      <th>18</th>\n",
       "      <th>19</th>\n",
       "    </tr>\n",
       "  </thead>\n",
       "  <tbody>\n",
       "    <tr>\n",
       "      <th>4911</th>\n",
       "      <td>1.0</td>\n",
       "      <td>1.0</td>\n",
       "      <td>1.0</td>\n",
       "      <td>0.0</td>\n",
       "      <td>1.0</td>\n",
       "      <td>0.0</td>\n",
       "      <td>0.0</td>\n",
       "      <td>1.0</td>\n",
       "      <td>1.0</td>\n",
       "      <td>1.0</td>\n",
       "      <td>1.0</td>\n",
       "      <td>1.0</td>\n",
       "      <td>1.0</td>\n",
       "      <td>0.5</td>\n",
       "      <td>1.0</td>\n",
       "      <td>0.000000</td>\n",
       "      <td>0.654229</td>\n",
       "      <td>0.612826</td>\n",
       "      <td>0.0</td>\n",
       "      <td>0.000000</td>\n",
       "    </tr>\n",
       "    <tr>\n",
       "      <th>3023</th>\n",
       "      <td>1.0</td>\n",
       "      <td>0.0</td>\n",
       "      <td>0.0</td>\n",
       "      <td>0.0</td>\n",
       "      <td>1.0</td>\n",
       "      <td>1.0</td>\n",
       "      <td>0.5</td>\n",
       "      <td>0.0</td>\n",
       "      <td>0.0</td>\n",
       "      <td>0.0</td>\n",
       "      <td>0.0</td>\n",
       "      <td>1.0</td>\n",
       "      <td>0.0</td>\n",
       "      <td>0.0</td>\n",
       "      <td>0.0</td>\n",
       "      <td>0.666667</td>\n",
       "      <td>0.659204</td>\n",
       "      <td>0.007581</td>\n",
       "      <td>0.0</td>\n",
       "      <td>0.000000</td>\n",
       "    </tr>\n",
       "    <tr>\n",
       "      <th>5288</th>\n",
       "      <td>1.0</td>\n",
       "      <td>0.0</td>\n",
       "      <td>1.0</td>\n",
       "      <td>1.0</td>\n",
       "      <td>1.0</td>\n",
       "      <td>0.0</td>\n",
       "      <td>0.5</td>\n",
       "      <td>0.0</td>\n",
       "      <td>0.0</td>\n",
       "      <td>0.0</td>\n",
       "      <td>0.0</td>\n",
       "      <td>1.0</td>\n",
       "      <td>1.0</td>\n",
       "      <td>0.0</td>\n",
       "      <td>1.0</td>\n",
       "      <td>0.666667</td>\n",
       "      <td>0.714925</td>\n",
       "      <td>0.008228</td>\n",
       "      <td>0.0</td>\n",
       "      <td>0.000000</td>\n",
       "    </tr>\n",
       "    <tr>\n",
       "      <th>6418</th>\n",
       "      <td>0.0</td>\n",
       "      <td>0.0</td>\n",
       "      <td>1.0</td>\n",
       "      <td>1.0</td>\n",
       "      <td>1.0</td>\n",
       "      <td>0.0</td>\n",
       "      <td>0.5</td>\n",
       "      <td>1.0</td>\n",
       "      <td>0.0</td>\n",
       "      <td>1.0</td>\n",
       "      <td>1.0</td>\n",
       "      <td>1.0</td>\n",
       "      <td>1.0</td>\n",
       "      <td>0.0</td>\n",
       "      <td>1.0</td>\n",
       "      <td>0.666667</td>\n",
       "      <td>0.882090</td>\n",
       "      <td>0.431300</td>\n",
       "      <td>0.8</td>\n",
       "      <td>0.000000</td>\n",
       "    </tr>\n",
       "    <tr>\n",
       "      <th>523</th>\n",
       "      <td>1.0</td>\n",
       "      <td>0.0</td>\n",
       "      <td>1.0</td>\n",
       "      <td>0.0</td>\n",
       "      <td>1.0</td>\n",
       "      <td>1.0</td>\n",
       "      <td>0.5</td>\n",
       "      <td>0.0</td>\n",
       "      <td>0.0</td>\n",
       "      <td>1.0</td>\n",
       "      <td>0.0</td>\n",
       "      <td>1.0</td>\n",
       "      <td>1.0</td>\n",
       "      <td>0.0</td>\n",
       "      <td>1.0</td>\n",
       "      <td>0.666667</td>\n",
       "      <td>0.813930</td>\n",
       "      <td>0.399400</td>\n",
       "      <td>0.0</td>\n",
       "      <td>0.333333</td>\n",
       "    </tr>\n",
       "    <tr>\n",
       "      <th>...</th>\n",
       "      <td>...</td>\n",
       "      <td>...</td>\n",
       "      <td>...</td>\n",
       "      <td>...</td>\n",
       "      <td>...</td>\n",
       "      <td>...</td>\n",
       "      <td>...</td>\n",
       "      <td>...</td>\n",
       "      <td>...</td>\n",
       "      <td>...</td>\n",
       "      <td>...</td>\n",
       "      <td>...</td>\n",
       "      <td>...</td>\n",
       "      <td>...</td>\n",
       "      <td>...</td>\n",
       "      <td>...</td>\n",
       "      <td>...</td>\n",
       "      <td>...</td>\n",
       "      <td>...</td>\n",
       "      <td>...</td>\n",
       "    </tr>\n",
       "    <tr>\n",
       "      <th>3915</th>\n",
       "      <td>0.0</td>\n",
       "      <td>0.0</td>\n",
       "      <td>1.0</td>\n",
       "      <td>1.0</td>\n",
       "      <td>1.0</td>\n",
       "      <td>1.0</td>\n",
       "      <td>0.5</td>\n",
       "      <td>1.0</td>\n",
       "      <td>0.0</td>\n",
       "      <td>1.0</td>\n",
       "      <td>1.0</td>\n",
       "      <td>1.0</td>\n",
       "      <td>1.0</td>\n",
       "      <td>0.5</td>\n",
       "      <td>1.0</td>\n",
       "      <td>0.666667</td>\n",
       "      <td>0.906965</td>\n",
       "      <td>0.838080</td>\n",
       "      <td>0.0</td>\n",
       "      <td>0.000000</td>\n",
       "    </tr>\n",
       "    <tr>\n",
       "      <th>1428</th>\n",
       "      <td>1.0</td>\n",
       "      <td>0.0</td>\n",
       "      <td>0.0</td>\n",
       "      <td>0.0</td>\n",
       "      <td>1.0</td>\n",
       "      <td>1.0</td>\n",
       "      <td>0.5</td>\n",
       "      <td>0.0</td>\n",
       "      <td>0.0</td>\n",
       "      <td>0.0</td>\n",
       "      <td>1.0</td>\n",
       "      <td>1.0</td>\n",
       "      <td>1.0</td>\n",
       "      <td>0.0</td>\n",
       "      <td>1.0</td>\n",
       "      <td>1.000000</td>\n",
       "      <td>0.812935</td>\n",
       "      <td>0.128543</td>\n",
       "      <td>0.0</td>\n",
       "      <td>0.111111</td>\n",
       "    </tr>\n",
       "    <tr>\n",
       "      <th>6537</th>\n",
       "      <td>1.0</td>\n",
       "      <td>0.0</td>\n",
       "      <td>0.0</td>\n",
       "      <td>1.0</td>\n",
       "      <td>1.0</td>\n",
       "      <td>0.0</td>\n",
       "      <td>1.0</td>\n",
       "      <td>0.5</td>\n",
       "      <td>0.5</td>\n",
       "      <td>0.5</td>\n",
       "      <td>0.5</td>\n",
       "      <td>0.5</td>\n",
       "      <td>0.5</td>\n",
       "      <td>0.5</td>\n",
       "      <td>0.0</td>\n",
       "      <td>1.000000</td>\n",
       "      <td>0.015423</td>\n",
       "      <td>0.051541</td>\n",
       "      <td>0.0</td>\n",
       "      <td>0.000000</td>\n",
       "    </tr>\n",
       "    <tr>\n",
       "      <th>4367</th>\n",
       "      <td>0.0</td>\n",
       "      <td>0.0</td>\n",
       "      <td>1.0</td>\n",
       "      <td>0.0</td>\n",
       "      <td>1.0</td>\n",
       "      <td>0.0</td>\n",
       "      <td>0.5</td>\n",
       "      <td>0.0</td>\n",
       "      <td>1.0</td>\n",
       "      <td>1.0</td>\n",
       "      <td>0.0</td>\n",
       "      <td>0.0</td>\n",
       "      <td>0.0</td>\n",
       "      <td>0.0</td>\n",
       "      <td>0.0</td>\n",
       "      <td>0.000000</td>\n",
       "      <td>0.611443</td>\n",
       "      <td>0.016871</td>\n",
       "      <td>0.0</td>\n",
       "      <td>0.000000</td>\n",
       "    </tr>\n",
       "    <tr>\n",
       "      <th>2522</th>\n",
       "      <td>0.0</td>\n",
       "      <td>0.0</td>\n",
       "      <td>1.0</td>\n",
       "      <td>0.0</td>\n",
       "      <td>1.0</td>\n",
       "      <td>1.0</td>\n",
       "      <td>1.0</td>\n",
       "      <td>0.5</td>\n",
       "      <td>0.5</td>\n",
       "      <td>0.5</td>\n",
       "      <td>0.5</td>\n",
       "      <td>0.5</td>\n",
       "      <td>0.5</td>\n",
       "      <td>1.0</td>\n",
       "      <td>1.0</td>\n",
       "      <td>0.333333</td>\n",
       "      <td>0.061692</td>\n",
       "      <td>0.191876</td>\n",
       "      <td>0.0</td>\n",
       "      <td>0.000000</td>\n",
       "    </tr>\n",
       "  </tbody>\n",
       "</table>\n",
       "<p>5612 rows × 20 columns</p>\n",
       "</div>"
      ],
      "text/plain": [
       "       0    1    2    3    4    5    6    7    8    9    10   11   12   13  \\\n",
       "4911  1.0  1.0  1.0  0.0  1.0  0.0  0.0  1.0  1.0  1.0  1.0  1.0  1.0  0.5   \n",
       "3023  1.0  0.0  0.0  0.0  1.0  1.0  0.5  0.0  0.0  0.0  0.0  1.0  0.0  0.0   \n",
       "5288  1.0  0.0  1.0  1.0  1.0  0.0  0.5  0.0  0.0  0.0  0.0  1.0  1.0  0.0   \n",
       "6418  0.0  0.0  1.0  1.0  1.0  0.0  0.5  1.0  0.0  1.0  1.0  1.0  1.0  0.0   \n",
       "523   1.0  0.0  1.0  0.0  1.0  1.0  0.5  0.0  0.0  1.0  0.0  1.0  1.0  0.0   \n",
       "...   ...  ...  ...  ...  ...  ...  ...  ...  ...  ...  ...  ...  ...  ...   \n",
       "3915  0.0  0.0  1.0  1.0  1.0  1.0  0.5  1.0  0.0  1.0  1.0  1.0  1.0  0.5   \n",
       "1428  1.0  0.0  0.0  0.0  1.0  1.0  0.5  0.0  0.0  0.0  1.0  1.0  1.0  0.0   \n",
       "6537  1.0  0.0  0.0  1.0  1.0  0.0  1.0  0.5  0.5  0.5  0.5  0.5  0.5  0.5   \n",
       "4367  0.0  0.0  1.0  0.0  1.0  0.0  0.5  0.0  1.0  1.0  0.0  0.0  0.0  0.0   \n",
       "2522  0.0  0.0  1.0  0.0  1.0  1.0  1.0  0.5  0.5  0.5  0.5  0.5  0.5  1.0   \n",
       "\n",
       "       14        15        16        17   18        19  \n",
       "4911  1.0  0.000000  0.654229  0.612826  0.0  0.000000  \n",
       "3023  0.0  0.666667  0.659204  0.007581  0.0  0.000000  \n",
       "5288  1.0  0.666667  0.714925  0.008228  0.0  0.000000  \n",
       "6418  1.0  0.666667  0.882090  0.431300  0.8  0.000000  \n",
       "523   1.0  0.666667  0.813930  0.399400  0.0  0.333333  \n",
       "...   ...       ...       ...       ...  ...       ...  \n",
       "3915  1.0  0.666667  0.906965  0.838080  0.0  0.000000  \n",
       "1428  1.0  1.000000  0.812935  0.128543  0.0  0.111111  \n",
       "6537  0.0  1.000000  0.015423  0.051541  0.0  0.000000  \n",
       "4367  0.0  0.000000  0.611443  0.016871  0.0  0.000000  \n",
       "2522  1.0  0.333333  0.061692  0.191876  0.0  0.000000  \n",
       "\n",
       "[5612 rows x 20 columns]"
      ]
     },
     "execution_count": 59,
     "metadata": {},
     "output_type": "execute_result"
    }
   ],
   "source": [
    "X_train"
   ]
  },
  {
   "cell_type": "code",
   "execution_count": 60,
   "id": "f07f99dd",
   "metadata": {},
   "outputs": [
    {
     "data": {
      "text/plain": [
       "array([0, 0, 1, ..., 0, 1, 0])"
      ]
     },
     "execution_count": 60,
     "metadata": {},
     "output_type": "execute_result"
    }
   ],
   "source": [
    "y "
   ]
  },
  {
   "cell_type": "markdown",
   "id": "d6c86dcf",
   "metadata": {},
   "source": [
    "# DecisionTreeClassifier"
   ]
  },
  {
   "cell_type": "code",
   "execution_count": 61,
   "id": "e1c5ed14",
   "metadata": {},
   "outputs": [
    {
     "name": "stdout",
     "output_type": "stream",
     "text": [
      "Accuracy: 77.90449037776193\n"
     ]
    }
   ],
   "source": [
    "from sklearn.tree import DecisionTreeClassifier\n",
    "from sklearn.metrics import accuracy_score\n",
    "DTC = DecisionTreeClassifier(random_state=4)\n",
    "DTC.fit(X_train, y_train)\n",
    "y_pred1 = DTC.predict(X_test)\n",
    "accuracy = accuracy_score(y_test, y_pred1)\n",
    "print(\"Accuracy:\", accuracy*100)"
   ]
  },
  {
   "cell_type": "markdown",
   "id": "8b47b312",
   "metadata": {},
   "source": [
    "# RandomForestClassifier"
   ]
  },
  {
   "cell_type": "code",
   "execution_count": 62,
   "id": "f0b15756",
   "metadata": {},
   "outputs": [
    {
     "name": "stdout",
     "output_type": "stream",
     "text": [
      "Accuracy: 83.89166072701354\n"
     ]
    }
   ],
   "source": [
    "from sklearn.ensemble import RandomForestClassifier\n",
    "RFC = RandomForestClassifier(random_state=5,criterion=\"gini\")\n",
    "\n",
    "# Fit the model on the training data\n",
    "RFC.fit(X_train, y_train)\n",
    "\n",
    "# Make predictions on the test data\n",
    "y_pred2 = RFC.predict(X_test)\n",
    "\n",
    "# Evaluate the accuracy of the model\n",
    "accuracy = accuracy_score(y_test, y_pred2)\n",
    "print(\"Accuracy:\", accuracy*100)"
   ]
  },
  {
   "cell_type": "markdown",
   "id": "adcb4639",
   "metadata": {},
   "source": [
    "# LogisticRegression"
   ]
  },
  {
   "cell_type": "code",
   "execution_count": 63,
   "id": "51c65b9e",
   "metadata": {},
   "outputs": [
    {
     "name": "stdout",
     "output_type": "stream",
     "text": [
      "Accuracy: 84.53314326443335\n"
     ]
    }
   ],
   "source": [
    "from sklearn.linear_model import LogisticRegression\n",
    "lr = LogisticRegression(max_iter=1000,random_state=5,penalty=\"l2\")\n",
    "lr.fit(X_train,y_train)\n",
    "y_pred3 = lr.predict(X_test)\n",
    "accuracy = accuracy_score(y_test, y_pred3)\n",
    "print(\"Accuracy:\", accuracy*100)"
   ]
  },
  {
   "cell_type": "code",
   "execution_count": 64,
   "id": "98bb4b5c",
   "metadata": {},
   "outputs": [
    {
     "data": {
      "text/plain": [
       "Index(['gender', 'SeniorCitizen', 'Partner', 'Dependents', 'PhoneService',\n",
       "       'MultipleLines', 'InternetService', 'OnlineSecurity', 'OnlineBackup',\n",
       "       'DeviceProtection', 'TechSupport', 'StreamingTV', 'StreamingMovies',\n",
       "       'Contract', 'PaperlessBilling', 'PaymentMethod', 'MonthlyCharges',\n",
       "       'TotalCharges', 'numAdminTickets', 'numTechTickets', 'Churn'],\n",
       "      dtype='object')"
      ]
     },
     "execution_count": 64,
     "metadata": {},
     "output_type": "execute_result"
    }
   ],
   "source": [
    "df.columns"
   ]
  },
  {
   "cell_type": "code",
   "execution_count": 65,
   "id": "8602d63a",
   "metadata": {},
   "outputs": [
    {
     "data": {
      "text/html": [
       "<div>\n",
       "<style scoped>\n",
       "    .dataframe tbody tr th:only-of-type {\n",
       "        vertical-align: middle;\n",
       "    }\n",
       "\n",
       "    .dataframe tbody tr th {\n",
       "        vertical-align: top;\n",
       "    }\n",
       "\n",
       "    .dataframe thead th {\n",
       "        text-align: right;\n",
       "    }\n",
       "</style>\n",
       "<table border=\"1\" class=\"dataframe\">\n",
       "  <thead>\n",
       "    <tr style=\"text-align: right;\">\n",
       "      <th></th>\n",
       "      <th>0</th>\n",
       "      <th>1</th>\n",
       "      <th>2</th>\n",
       "      <th>3</th>\n",
       "      <th>4</th>\n",
       "      <th>5</th>\n",
       "      <th>6</th>\n",
       "      <th>7</th>\n",
       "      <th>8</th>\n",
       "      <th>9</th>\n",
       "      <th>10</th>\n",
       "      <th>11</th>\n",
       "      <th>12</th>\n",
       "      <th>13</th>\n",
       "      <th>14</th>\n",
       "      <th>15</th>\n",
       "      <th>16</th>\n",
       "      <th>17</th>\n",
       "      <th>18</th>\n",
       "      <th>19</th>\n",
       "    </tr>\n",
       "  </thead>\n",
       "  <tbody>\n",
       "    <tr>\n",
       "      <th>0</th>\n",
       "      <td>0.0</td>\n",
       "      <td>0.0</td>\n",
       "      <td>1.0</td>\n",
       "      <td>0.0</td>\n",
       "      <td>0.0</td>\n",
       "      <td>0.5</td>\n",
       "      <td>0.0</td>\n",
       "      <td>0.0</td>\n",
       "      <td>1.0</td>\n",
       "      <td>0.0</td>\n",
       "      <td>0.0</td>\n",
       "      <td>0.0</td>\n",
       "      <td>0.0</td>\n",
       "      <td>0.0</td>\n",
       "      <td>1.0</td>\n",
       "      <td>0.666667</td>\n",
       "      <td>0.115423</td>\n",
       "      <td>0.001275</td>\n",
       "      <td>0.0</td>\n",
       "      <td>0.0</td>\n",
       "    </tr>\n",
       "    <tr>\n",
       "      <th>1</th>\n",
       "      <td>1.0</td>\n",
       "      <td>0.0</td>\n",
       "      <td>0.0</td>\n",
       "      <td>0.0</td>\n",
       "      <td>1.0</td>\n",
       "      <td>0.0</td>\n",
       "      <td>0.0</td>\n",
       "      <td>1.0</td>\n",
       "      <td>0.0</td>\n",
       "      <td>1.0</td>\n",
       "      <td>0.0</td>\n",
       "      <td>0.0</td>\n",
       "      <td>0.0</td>\n",
       "      <td>0.5</td>\n",
       "      <td>0.0</td>\n",
       "      <td>1.000000</td>\n",
       "      <td>0.385075</td>\n",
       "      <td>0.215867</td>\n",
       "      <td>0.0</td>\n",
       "      <td>0.0</td>\n",
       "    </tr>\n",
       "    <tr>\n",
       "      <th>2</th>\n",
       "      <td>1.0</td>\n",
       "      <td>0.0</td>\n",
       "      <td>0.0</td>\n",
       "      <td>0.0</td>\n",
       "      <td>1.0</td>\n",
       "      <td>0.0</td>\n",
       "      <td>0.0</td>\n",
       "      <td>1.0</td>\n",
       "      <td>1.0</td>\n",
       "      <td>0.0</td>\n",
       "      <td>0.0</td>\n",
       "      <td>0.0</td>\n",
       "      <td>0.0</td>\n",
       "      <td>0.0</td>\n",
       "      <td>1.0</td>\n",
       "      <td>1.000000</td>\n",
       "      <td>0.354229</td>\n",
       "      <td>0.010310</td>\n",
       "      <td>0.0</td>\n",
       "      <td>0.0</td>\n",
       "    </tr>\n",
       "  </tbody>\n",
       "</table>\n",
       "</div>"
      ],
      "text/plain": [
       "    0    1    2    3    4    5    6    7    8    9    10   11   12   13   14  \\\n",
       "0  0.0  0.0  1.0  0.0  0.0  0.5  0.0  0.0  1.0  0.0  0.0  0.0  0.0  0.0  1.0   \n",
       "1  1.0  0.0  0.0  0.0  1.0  0.0  0.0  1.0  0.0  1.0  0.0  0.0  0.0  0.5  0.0   \n",
       "2  1.0  0.0  0.0  0.0  1.0  0.0  0.0  1.0  1.0  0.0  0.0  0.0  0.0  0.0  1.0   \n",
       "\n",
       "         15        16        17   18   19  \n",
       "0  0.666667  0.115423  0.001275  0.0  0.0  \n",
       "1  1.000000  0.385075  0.215867  0.0  0.0  \n",
       "2  1.000000  0.354229  0.010310  0.0  0.0  "
      ]
     },
     "execution_count": 65,
     "metadata": {},
     "output_type": "execute_result"
    }
   ],
   "source": [
    "X[:3]"
   ]
  },
  {
   "cell_type": "code",
   "execution_count": 66,
   "id": "660d2a04",
   "metadata": {},
   "outputs": [
    {
     "data": {
      "text/plain": [
       "array([1, 0, 1, 0, 1, 1, 0, 0, 1, 0])"
      ]
     },
     "execution_count": 66,
     "metadata": {},
     "output_type": "execute_result"
    }
   ],
   "source": [
    "RFC.predict(X[:10])"
   ]
  },
  {
   "cell_type": "code",
   "execution_count": 67,
   "id": "4fca8c6e",
   "metadata": {},
   "outputs": [
    {
     "data": {
      "text/plain": [
       "array([1, 0, 1, 0, 1, 1, 0, 0, 1, 0])"
      ]
     },
     "execution_count": 67,
     "metadata": {},
     "output_type": "execute_result"
    }
   ],
   "source": [
    "DTC.predict(X[:10])"
   ]
  },
  {
   "cell_type": "code",
   "execution_count": 68,
   "id": "cbaf5bea",
   "metadata": {},
   "outputs": [
    {
     "data": {
      "text/plain": [
       "array([1, 0, 0, ..., 0, 0, 1])"
      ]
     },
     "execution_count": 68,
     "metadata": {},
     "output_type": "execute_result"
    }
   ],
   "source": [
    "y_test[10:]"
   ]
  },
  {
   "cell_type": "code",
   "execution_count": 69,
   "id": "796d9237",
   "metadata": {},
   "outputs": [
    {
     "data": {
      "text/plain": [
       "array([0, 0, 0, 0, 1, 1, 0, 0, 1, 0])"
      ]
     },
     "execution_count": 69,
     "metadata": {},
     "output_type": "execute_result"
    }
   ],
   "source": [
    "lr.predict(X[:10])"
   ]
  },
  {
   "cell_type": "code",
   "execution_count": 70,
   "id": "4e1e0aa5",
   "metadata": {},
   "outputs": [
    {
     "data": {
      "image/png": "[encoded data removed]",
      "text/plain": [
       "<Figure size 640x480 with 2 Axes>"
      ]
     },
     "metadata": {},
     "output_type": "display_data"
    }
   ],
   "source": [
    "from sklearn.metrics import confusion_matrix\n",
    "# Compute the confusion matrix\n",
    "cm = confusion_matrix(y_test, y_pred1)\n",
    "# Create a figure and axes\n",
    "fig, ax = plt.subplots()\n",
    "\n",
    "# Plot the confusion matrix as a heatmap\n",
    "sns.heatmap(cm, annot=True, fmt=\"d\", cmap=\"Blues\", ax=ax)\n",
    "\n",
    "# Set labels, title, and ticks\n",
    "ax.set_xlabel('Predicted')\n",
    "ax.set_ylabel('True')\n",
    "ax.set_title('Confusion Matrix')\n",
    "ax.xaxis.set_ticklabels(['Class 0', 'Class 1'])\n",
    "ax.yaxis.set_ticklabels(['Class 0', 'Class 1'])\n",
    "\n",
    "# Display the plot\n",
    "plt.show()\n"
   ]
  },
  {
   "cell_type": "code",
   "execution_count": 71,
   "id": "4db6300e",
   "metadata": {},
   "outputs": [
    {
     "data": {
      "image/png": "[encoded data removed]",
      "text/plain": [
       "<Figure size 640x480 with 2 Axes>"
      ]
     },
     "metadata": {},
     "output_type": "display_data"
    }
   ],
   "source": [
    "from sklearn.metrics import confusion_matrix\n",
    "# Compute the confusion matrix\n",
    "cm = confusion_matrix(y_test, y_pred2)\n",
    "# Create a figure and axes\n",
    "fig, ax = plt.subplots()\n",
    "\n",
    "# Plot the confusion matrix as a heatmap\n",
    "sns.heatmap(cm, annot=True, fmt=\"d\", cmap=\"Blues\", ax=ax)\n",
    "\n",
    "# Set labels, title, and ticks\n",
    "ax.set_xlabel('Predicted')\n",
    "ax.set_ylabel('True')\n",
    "ax.set_title('Confusion Matrix')\n",
    "ax.xaxis.set_ticklabels(['Class 0', 'Class 1'])\n",
    "ax.yaxis.set_ticklabels(['Class 0', 'Class 1'])\n",
    "\n",
    "# Display the plot\n",
    "plt.show()\n"
   ]
  },
  {
   "cell_type": "code",
   "execution_count": 72,
   "id": "1fe16f22",
   "metadata": {},
   "outputs": [
    {
     "data": {
      "image/png": "[encoded data removed]",
      "text/plain": [
       "<Figure size 640x480 with 2 Axes>"
      ]
     },
     "metadata": {},
     "output_type": "display_data"
    }
   ],
   "source": [
    "from sklearn.metrics import confusion_matrix\n",
    "# Compute the confusion matrix\n",
    "cm = confusion_matrix(y_test, y_pred3)\n",
    "# Create a figure and axes\n",
    "fig, ax = plt.subplots()\n",
    "\n",
    "# Plot the confusion matrix as a heatmap\n",
    "sns.heatmap(cm, annot=True, fmt=\"d\", cmap=\"Blues\", ax=ax)\n",
    "\n",
    "# Set labels, title, and ticks\n",
    "ax.set_xlabel('Predicted')\n",
    "ax.set_ylabel('True')\n",
    "ax.set_title('Confusion Matrix')\n",
    "ax.xaxis.set_ticklabels(['Class 0', 'Class 1'])\n",
    "ax.yaxis.set_ticklabels(['Class 0', 'Class 1'])\n",
    "\n",
    "# Display the plot\n",
    "plt.show()\n"
   ]
  },
  {
   "cell_type": "markdown",
   "id": "03fd6918",
   "metadata": {},
   "source": [
    "According tho the accuracy score as well as the confusion metrics the logistic regresion will be the best model for the data"
   ]
  },
  {
   "cell_type": "code",
   "execution_count": null,
   "id": "ec8f0f11",
   "metadata": {},
   "outputs": [],
   "source": []
  }
 ],
 "metadata": {
  "kernelspec": {
   "display_name": "Python 3 (ipykernel)",
   "language": "python",
   "name": "python3"
  },
  "language_info": {
   "codemirror_mode": {
    "name": "ipython",
    "version": 3
   },
   "file_extension": ".py",
   "mimetype": "text/x-python",
   "name": "python",
   "nbconvert_exporter": "python",
   "pygments_lexer": "ipython3",
   "version": "3.9.13"
  }
 },
 "nbformat": 4,
 "nbformat_minor": 5
}
